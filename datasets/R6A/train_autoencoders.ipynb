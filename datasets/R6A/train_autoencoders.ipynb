{
 "cells": [
  {
   "cell_type": "code",
   "execution_count": 1,
   "id": "c910d8fe-2935-4a2b-81bc-69c806b13ef6",
   "metadata": {},
   "outputs": [],
   "source": [
    "import random\n",
    "import numpy as np\n",
    "import math\n",
    "from numpy.random import seed\n",
    "from numpy.random import rand\n",
    "import tqdm\n",
    "import matplotlib.pyplot as plt\n",
    "\n",
    "import torch\n",
    "import torch.nn as nn\n",
    "import torch.optim as optim\n",
    "import torch.nn.init as init\n",
    "import torchvision.datasets as dset\n",
    "import torchvision.transforms as transforms\n",
    "from torch.utils.data import DataLoader\n",
    "\n",
    "learning_rate = 0.00005\n",
    "weight_decay  = 0.00001\n",
    "\n",
    "private = False\n",
    "num_epoch = 100\n",
    "\n",
    "f = open('ydata-fp-td-clicks-v1_0.20090501')"
   ]
  },
  {
   "cell_type": "code",
   "execution_count": 2,
   "id": "0cb1ab02-a6b1-4ede-b43f-badb3b4f7ff6",
   "metadata": {},
   "outputs": [],
   "source": [
    "option = 'outer' #/ 'outer'\n",
    "\n",
    "\n",
    "if option == 'concat':\n",
    "    d = 12\n",
    "    EMB_DIM = 10\n",
    "    \n",
    "elif option == 'outer':\n",
    "    d = 36\n",
    "    EMB_DIM = 20\n",
    "    \n",
    "else:\n",
    "    print('will be no implemented')"
   ]
  },
  {
   "cell_type": "code",
   "execution_count": 3,
   "id": "c05e9ba1-0812-4891-bfcc-83795bc8a00f",
   "metadata": {},
   "outputs": [],
   "source": [
    "class Autoencoder(nn.Module):\n",
    "    def __init__(self, d = d, emb_dim = EMB_DIM):\n",
    "        super().__init__()\n",
    "        self.emb_dim = emb_dim\n",
    "        self.d       = d\n",
    "        self.encoder = nn.Linear(self.d, self.emb_dim)\n",
    "        self.decoder = nn.Linear(self.emb_dim, self.d)\n",
    "                \n",
    "    def forward(self, x):\n",
    "        batch_size = x.shape[0]\n",
    "        x = x.view(x.shape[0],-1)\n",
    "        encoded = self.encoder(x)\n",
    "        out = self.decoder(encoded).view(batch_size,self.d)\n",
    "        return out\n",
    "    \n",
    "    def encoding_result(self, x):\n",
    "        batch_size = x.shape[0]\n",
    "        x = x.view(x.shape[0],-1)\n",
    "        encoded = self.encoder(x)\n",
    "        return encoded\n",
    "    \n",
    "def parse_context(raw_context):\n",
    "#         print(raw_context)\n",
    "    if raw_context[0] == 'user':\n",
    "        arm = 'user'\n",
    "    else:\n",
    "        arm = int(raw_context[0])\n",
    "\n",
    "    context = np.zeros(6)\n",
    "    for i in range(1, len(raw_context)):\n",
    "        idx_ctx = raw_context[i].split(':')\n",
    "        context[int(idx_ctx[0])-1] = float(idx_ctx[1])\n",
    "\n",
    "    return arm, context"
   ]
  },
  {
   "cell_type": "code",
   "execution_count": 4,
   "id": "91db3704-1096-41ac-9daf-435befe2188b",
   "metadata": {},
   "outputs": [
    {
     "name": "stdout",
     "output_type": "stream",
     "text": [
      "cuda:0\n"
     ]
    }
   ],
   "source": [
    "device = torch.device(\"cuda:0\" if torch.cuda.is_available() else \"cpu\")\n",
    "print(device)\n",
    "\n",
    "model = Autoencoder(emb_dim=10).to(device)\n",
    "loss_func = nn.MSELoss()\n",
    "optimizer = torch.optim.Adam(model.parameters(), lr=learning_rate, weight_decay=weight_decay)"
   ]
  },
  {
   "cell_type": "code",
   "execution_count": 5,
   "id": "12af60f8-9fef-41f7-b4ad-ba74e7a6fa5c",
   "metadata": {},
   "outputs": [
    {
     "name": "stderr",
     "output_type": "stream",
     "text": [
      "100%|██████████| 200000/200000 [06:57<00:00, 479.26it/s]\n"
     ]
    }
   ],
   "source": [
    "num_epoch = 200000\n",
    "loss_arr = []\n",
    "\n",
    "for k in tqdm.tqdm(range(num_epoch)):\n",
    "    \n",
    "    line = f.readline()\n",
    "    raw_data = line.strip().split(' |')\n",
    "\n",
    "    info = raw_data[0].split(' ')\n",
    "    time = int(info[0])\n",
    "    chosen_arm = int(info[1])\n",
    "    is_clicked = bool(int(info[2]))\n",
    "    user_context = parse_context(raw_data[1].split(' '))[1]\n",
    "\n",
    "\n",
    "    arms = []\n",
    "    arm_contexts = []\n",
    "    for i in range(2, len(raw_data)):\n",
    "        arm, context = parse_context(raw_data[i].split(' '))\n",
    "        arms.append(arm)\n",
    "        arm_contexts.append(context)\n",
    "              \n",
    "    if option == 'concat':\n",
    "        x = np.concatenate((user_context, arm_contexts[0]))\n",
    "        for j in range(1, len(arm_contexts)):\n",
    "            x = np.vstack((x, np.concatenate((user_context, arm_contexts[j]))))\n",
    "    \n",
    "    elif option == 'outer':\n",
    "        x = np.outer(user_context, arm_contexts[0]).flatten()\n",
    "        for j in range(1, len(arm_contexts)):\n",
    "            x = np.vstack((x, np.outer(user_context, arm_contexts[j]).flatten()))\n",
    "            \n",
    "    else:\n",
    "        raise NotImplemented\n",
    "\n",
    "    x = torch.from_numpy(x.copy()).type(torch.FloatTensor).to(device)\n",
    "    \n",
    "    optimizer.zero_grad()\n",
    "    output = model.forward(x)\n",
    "    loss = loss_func(output,x)\n",
    "    loss.backward()\n",
    "    optimizer.step()\n",
    "\n",
    "    if k % 100 == 0:\n",
    "        loss_arr.append(loss.cpu().data.numpy())"
   ]
  },
  {
   "cell_type": "code",
   "execution_count": 6,
   "id": "9530d4b2-5171-4543-9bf1-62a141920cd0",
   "metadata": {},
   "outputs": [
    {
     "data": {
      "image/png": "[encoded data removed]",
      "text/plain": [
       "<Figure size 432x288 with 1 Axes>"
      ]
     },
     "metadata": {
      "needs_background": "light"
     },
     "output_type": "display_data"
    }
   ],
   "source": [
    "from scipy.signal import savgol_filter\n",
    "\n",
    "plt.plot(savgol_filter(loss_arr,21, 3))\n",
    "plt.yscale(\"log\")"
   ]
  },
  {
   "cell_type": "code",
   "execution_count": 7,
   "id": "80757e46-af91-4ebb-b3d7-7a8f768184ca",
   "metadata": {},
   "outputs": [
    {
     "name": "stdout",
     "output_type": "stream",
     "text": [
      "tensor([1.0000e+00, 3.0601e-01, 4.5000e-04, 7.7048e-02, 2.3044e-01, 3.8605e-01,\n",
      "        3.1284e-01, 9.5732e-02, 1.4078e-04, 2.4104e-02, 7.2091e-02, 1.2077e-01,\n",
      "        2.1722e-01, 6.6472e-02, 9.7750e-05, 1.6737e-02, 5.0056e-02, 8.3860e-02,\n",
      "        2.3401e-02, 7.1609e-03, 1.0530e-05, 1.8030e-03, 5.3925e-03, 9.0341e-03,\n",
      "        4.4462e-01, 1.3606e-01, 2.0008e-04, 3.4257e-02, 1.0246e-01, 1.7165e-01,\n",
      "        1.9210e-03, 5.8784e-04, 8.6445e-07, 1.4801e-04, 4.4267e-04, 7.4161e-04],\n",
      "       device='cuda:0')\n",
      "tensor([ 0.0739, -0.1283,  0.0839, -0.0906, -0.0070, -0.0375,  0.1180,  0.0582,\n",
      "        -0.4011, -0.2244], device='cuda:0')\n",
      "tensor([ 9.9998e-01,  3.0954e-01,  2.9521e-04,  7.7953e-02,  2.3067e-01,\n",
      "         3.8168e-01,  3.1246e-01,  9.8532e-02,  8.2893e-05,  2.7065e-02,\n",
      "         7.3566e-02,  1.1329e-01,  2.1783e-01,  6.8307e-02,  6.4642e-05,\n",
      "         2.2711e-02,  4.8887e-02,  7.7914e-02,  2.2371e-02,  8.9321e-03,\n",
      "         6.6895e-06, -1.0792e-02, -3.1355e-03,  2.7465e-02,  4.4497e-01,\n",
      "         1.4002e-01,  1.2583e-04,  3.8947e-02,  1.1024e-01,  1.5566e-01,\n",
      "         2.1458e-03, -6.3222e-03,  8.8310e-06,  1.0755e-05,  1.3017e-03,\n",
      "         7.2390e-03], device='cuda:0')\n"
     ]
    }
   ],
   "source": [
    "model.eval()\n",
    "with torch.no_grad():\n",
    "    model.eval()\n",
    "    print(x[0])\n",
    "    print(model.encoding_result(x)[0])\n",
    "    print(model.forward(x)[0])"
   ]
  },
  {
   "cell_type": "code",
   "execution_count": 8,
   "id": "ba3bc3fd-1bd2-494f-8d2f-09122964b55a",
   "metadata": {},
   "outputs": [],
   "source": [
    "torch.save(model.state_dict(), '../../models/r6a_autoencoder_{}.pt'.format(option))"
   ]
  },
  {
   "cell_type": "code",
   "execution_count": null,
   "id": "063281a6-51fd-4cf2-8229-5e4997929836",
   "metadata": {},
   "outputs": [],
   "source": []
  }
 ],
 "metadata": {
  "kernelspec": {
   "display_name": "Python 3 (ipykernel)",
   "language": "python",
   "name": "python3"
  },
  "language_info": {
   "codemirror_mode": {
    "name": "ipython",
    "version": 3
   },
   "file_extension": ".py",
   "mimetype": "text/x-python",
   "name": "python",
   "nbconvert_exporter": "python",
   "pygments_lexer": "ipython3",
   "version": "3.9.12"
  }
 },
 "nbformat": 4,
 "nbformat_minor": 5
}
