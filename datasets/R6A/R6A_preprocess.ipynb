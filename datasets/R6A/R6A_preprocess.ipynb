{
 "cells": [
  {
   "cell_type": "code",
   "execution_count": 8,
   "id": "c910d8fe-2935-4a2b-81bc-69c806b13ef6",
   "metadata": {},
   "outputs": [
    {
     "name": "stdout",
     "output_type": "stream",
     "text": [
      "cuda:0\n"
     ]
    }
   ],
   "source": [
    "import random\n",
    "import numpy as np\n",
    "import math\n",
    "from numpy.random import seed\n",
    "from numpy.random import rand\n",
    "import tqdm\n",
    "import matplotlib.pyplot as plt\n",
    "\n",
    "import torch\n",
    "import torch.nn as nn\n",
    "import torch.optim as optim\n",
    "import torch.nn.init as init\n",
    "import torchvision.datasets as dset\n",
    "import torchvision.transforms as transforms\n",
    "from torch.utils.data import DataLoader\n",
    "\n",
    "device = torch.device(\"cuda:0\" if torch.cuda.is_available() else \"cpu\")\n",
    "print(device)"
   ]
  },
  {
   "cell_type": "markdown",
   "id": "97f60182-c4c6-49d6-ba31-0f6e8c0ff0b1",
   "metadata": {},
   "source": [
    "# CONFIGS"
   ]
  },
  {
   "cell_type": "code",
   "execution_count": 9,
   "id": "483482f9-43a0-42d4-a15a-23560a9e7549",
   "metadata": {},
   "outputs": [],
   "source": [
    "# Select_Particular_Files    \n",
    "f = open('ydata-fp-td-clicks-v1_0.20090501')\n",
    "\n",
    "\n",
    "# Aggregation Option (concat / outer / outer1)\n",
    "option = 'concat'\n",
    "\n",
    "if option == 'concat':\n",
    "    d = 12\n",
    "    EMB_DIM = 10\n",
    "    \n",
    "elif option == 'outer':\n",
    "    d = 36\n",
    "    EMB_DIM = 20\n",
    "    \n",
    "elif option == 'outer1':\n",
    "    d = 49\n",
    "    EMB_DIM = 25\n",
    "    \n",
    "else:\n",
    "    print('will be no implemented')\n",
    "\n",
    "# Hyperparameters for Training\n",
    "learning_rate = 0.00005\n",
    "weight_decay  = 0.00001\n",
    "num_epoch = 200000\n",
    "    \n",
    "\n",
    "# Additional char tail for save/load\n",
    "load_tail = ''"
   ]
  },
  {
   "cell_type": "markdown",
   "id": "aa9313a1-7cff-4361-a830-b7e6a5dea972",
   "metadata": {},
   "source": [
    "___"
   ]
  },
  {
   "cell_type": "code",
   "execution_count": 10,
   "id": "c05e9ba1-0812-4891-bfcc-83795bc8a00f",
   "metadata": {},
   "outputs": [],
   "source": [
    "class Autoencoder(nn.Module):\n",
    "    def __init__(self, d = d, emb_dim = EMB_DIM):\n",
    "        super().__init__()\n",
    "        self.emb_dim = emb_dim\n",
    "        self.d       = d\n",
    "        self.encoder = nn.Linear(self.d, self.emb_dim)\n",
    "        self.decoder = nn.Linear(self.emb_dim, self.d)\n",
    "                \n",
    "    def forward(self, x):\n",
    "        batch_size = x.shape[0]\n",
    "        x = x.view(x.shape[0],-1)\n",
    "        encoded = self.encoder(x)\n",
    "        out = self.decoder(encoded).view(batch_size,self.d)\n",
    "        return out\n",
    "    \n",
    "    def encoding_result(self, x):\n",
    "        batch_size = x.shape[0]\n",
    "        x = x.view(x.shape[0],-1)\n",
    "        encoded = self.encoder(x)\n",
    "        return encoded\n",
    "    \n",
    "def parse_context(raw_context):\n",
    "#         print(raw_context)\n",
    "    if raw_context[0] == 'user':\n",
    "        arm = 'user'\n",
    "    else:\n",
    "        arm = int(raw_context[0])\n",
    "\n",
    "    context = np.zeros(6)\n",
    "    for i in range(1, len(raw_context)):\n",
    "        idx_ctx = raw_context[i].split(':')\n",
    "        context[int(idx_ctx[0])-1] = float(idx_ctx[1])\n",
    "\n",
    "    return arm, context"
   ]
  },
  {
   "cell_type": "code",
   "execution_count": 11,
   "id": "91db3704-1096-41ac-9daf-435befe2188b",
   "metadata": {},
   "outputs": [],
   "source": [
    "model = Autoencoder(emb_dim=EMB_DIM).to(device)\n",
    "loss_func = nn.MSELoss()\n",
    "optimizer = torch.optim.Adam(model.parameters(), lr=learning_rate, weight_decay=weight_decay)"
   ]
  },
  {
   "cell_type": "code",
   "execution_count": 12,
   "id": "12af60f8-9fef-41f7-b4ad-ba74e7a6fa5c",
   "metadata": {},
   "outputs": [
    {
     "name": "stderr",
     "output_type": "stream",
     "text": [
      "100%|██████████| 200000/200000 [02:53<00:00, 1149.98it/s]\n"
     ]
    }
   ],
   "source": [
    "loss_arr = []\n",
    "\n",
    "for k in tqdm.tqdm(range(num_epoch)):\n",
    "    \n",
    "    line = f.readline()\n",
    "    raw_data = line.strip().split(' |')\n",
    "\n",
    "    info = raw_data[0].split(' ')\n",
    "    time = int(info[0])\n",
    "    chosen_arm = int(info[1])\n",
    "    is_clicked = bool(int(info[2]))\n",
    "    user_context = parse_context(raw_data[1].split(' '))[1]\n",
    "\n",
    "\n",
    "    arms = []\n",
    "    arm_contexts = []\n",
    "    for i in range(2, len(raw_data)):\n",
    "        arm, context = parse_context(raw_data[i].split(' '))\n",
    "        arms.append(arm)\n",
    "        arm_contexts.append(context)\n",
    "              \n",
    "    if option == 'concat':\n",
    "        x = np.concatenate((user_context, arm_contexts[0]))\n",
    "        for j in range(1, len(arm_contexts)):\n",
    "            x = np.vstack((x, np.concatenate((user_context, arm_contexts[j]))))\n",
    "    \n",
    "    elif option == 'outer':\n",
    "        x = np.outer(user_context, arm_contexts[0]).flatten()\n",
    "        for j in range(1, len(arm_contexts)):\n",
    "            x = np.vstack((x, np.outer(user_context, arm_contexts[j]).flatten()))\n",
    "            \n",
    "    elif option == 'outer1':\n",
    "        x = np.outer(np.append(user_context,1.0), np.append(arm_contexts[0],1.0)).flatten()\n",
    "        for j in range(1, len(arm_contexts)):\n",
    "            x = np.vstack((x, np.outer(np.append(user_context,1.0), np.append(arm_contexts[j],1.0)).flatten()))\n",
    "            \n",
    "    else:\n",
    "        raise NotImplemented\n",
    "\n",
    "    x = torch.from_numpy(x.copy()).type(torch.FloatTensor).to(device)\n",
    "    \n",
    "    optimizer.zero_grad()\n",
    "    output = model.forward(x)\n",
    "    loss = loss_func(output,x)\n",
    "    loss.backward()\n",
    "    optimizer.step()\n",
    "\n",
    "    if k % 100 == 0:\n",
    "        loss_arr.append(loss.cpu().data.numpy())"
   ]
  },
  {
   "cell_type": "code",
   "execution_count": 13,
   "id": "9530d4b2-5171-4543-9bf1-62a141920cd0",
   "metadata": {},
   "outputs": [
    {
     "data": {
      "image/png": "[encoded data removed]",
      "text/plain": [
       "<Figure size 432x288 with 1 Axes>"
      ]
     },
     "metadata": {
      "needs_background": "light"
     },
     "output_type": "display_data"
    }
   ],
   "source": [
    "from scipy.signal import savgol_filter\n",
    "\n",
    "plt.plot(savgol_filter(loss_arr,21, 3))\n",
    "plt.yscale(\"log\")"
   ]
  },
  {
   "cell_type": "code",
   "execution_count": 14,
   "id": "80757e46-af91-4ebb-b3d7-7a8f768184ca",
   "metadata": {},
   "outputs": [
    {
     "name": "stdout",
     "output_type": "stream",
     "text": [
      "tensor([1.0000e+00, 3.1284e-01, 2.1722e-01, 2.3401e-02, 4.4462e-01, 1.9210e-03,\n",
      "        1.0000e+00, 3.0601e-01, 4.5000e-04, 7.7048e-02, 2.3044e-01, 3.8605e-01],\n",
      "       device='cuda:0')\n",
      "tensor([ 1.0460,  0.0309, -0.0024,  0.7982,  0.1559, -0.1381,  0.1861, -0.1129,\n",
      "        -0.2304, -0.4912], device='cuda:0')\n",
      "tensor([9.9989e-01, 3.1267e-01, 2.1667e-01, 2.4005e-02, 4.4458e-01, 2.1587e-03,\n",
      "        9.9989e-01, 3.0622e-01, 2.9823e-04, 7.7207e-02, 2.3083e-01, 3.8538e-01],\n",
      "       device='cuda:0')\n"
     ]
    }
   ],
   "source": [
    "model.eval()\n",
    "with torch.no_grad():\n",
    "    model.eval()\n",
    "    print(x[0])\n",
    "    print(model.encoding_result(x)[0])\n",
    "    print(model.forward(x)[0])"
   ]
  },
  {
   "cell_type": "code",
   "execution_count": 15,
   "id": "ba3bc3fd-1bd2-494f-8d2f-09122964b55a",
   "metadata": {},
   "outputs": [],
   "source": [
    "torch.save(model.state_dict(), '../../models/r6a_autoencoder_{}{}.pt'.format(option,load_tail))"
   ]
  },
  {
   "cell_type": "code",
   "execution_count": null,
   "id": "6ef7d34e-8c96-47c3-9e9b-524feb575e28",
   "metadata": {},
   "outputs": [],
   "source": []
  },
  {
   "cell_type": "code",
   "execution_count": null,
   "id": "3d12250c-2270-4415-b2aa-b8fd7fa8a730",
   "metadata": {},
   "outputs": [],
   "source": []
  }
 ],
 "metadata": {
  "kernelspec": {
   "display_name": "Python 3 (ipykernel)",
   "language": "python",
   "name": "python3"
  },
  "language_info": {
   "codemirror_mode": {
    "name": "ipython",
    "version": 3
   },
   "file_extension": ".py",
   "mimetype": "text/x-python",
   "name": "python",
   "nbconvert_exporter": "python",
   "pygments_lexer": "ipython3",
   "version": "3.9.12"
  }
 },
 "nbformat": 4,
 "nbformat_minor": 5
}
