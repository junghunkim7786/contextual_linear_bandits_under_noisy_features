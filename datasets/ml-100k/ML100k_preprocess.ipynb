{
 "cells": [
  {
   "cell_type": "code",
   "execution_count": 88,
   "id": "22ed7fa4-98c1-451a-b2ea-c5aeb46a56b4",
   "metadata": {},
   "outputs": [],
   "source": [
    "import numpy as np\n",
    "import pandas as pd\n",
    "from sklearn.preprocessing import OneHotEncoder\n",
    "\n",
    "import pickle\n",
    "\n",
    "import torch\n",
    "import torch.nn as nn\n",
    "import torch.optim as optim\n",
    "import torch.nn.init as init\n",
    "import tqdm\n",
    "import matplotlib.pyplot as plt\n",
    "\n",
    "device = torch.device(\"cuda:0\" if torch.cuda.is_available() else \"cpu\")\n",
    "print(device)"
   ]
  },
  {
   "cell_type": "markdown",
   "id": "f79bd77f-63ed-46a3-a3eb-50f5715df1dd",
   "metadata": {},
   "source": [
    "# CONFIGS"
   ]
  },
  {
   "cell_type": "code",
   "execution_count": 84,
   "id": "635f01e9-2e7b-4a1c-9b68-7c568a4afe59",
   "metadata": {},
   "outputs": [],
   "source": [
    "# Find total number of ratings instances for top n movies\n",
    "top_n = 10\n",
    "\n",
    "# Aggregation Option (concat / outer / outer1)\n",
    "option = 'outer1'\n",
    "\n",
    "if option == 'concat':\n",
    "    d = 48\n",
    "    EMB_DIM = 24\n",
    "    \n",
    "elif option == 'outer':\n",
    "    d = 551\n",
    "    EMB_DIM = 50\n",
    "    \n",
    "elif option == 'outer1':\n",
    "    d = 600\n",
    "    EMB_DIM = 50\n",
    "    \n",
    "else:\n",
    "    print('will be no implemented')\n",
    "\n",
    "# Hyperparameters for Training\n",
    "learning_rate = 0.0001\n",
    "weight_decay  = 0.00001\n",
    "num_epoch = 250\n",
    "B = 50 # batchsize\n",
    "\n",
    "# Additional char tail for save/load\n",
    "load_tail = ''"
   ]
  },
  {
   "cell_type": "markdown",
   "id": "8ada17d9-009f-4817-a7be-74c7ec00a8b7",
   "metadata": {},
   "source": [
    "___"
   ]
  },
  {
   "cell_type": "markdown",
   "id": "23aeb605-85c7-495a-be5a-7ec48291f921",
   "metadata": {},
   "source": [
    "## USER"
   ]
  },
  {
   "cell_type": "code",
   "execution_count": 4,
   "id": "4906413c-e6cf-457a-b8b8-4b0cbdb73ea3",
   "metadata": {},
   "outputs": [
    {
     "data": {
      "text/html": [
       "<div>\n",
       "<style scoped>\n",
       "    .dataframe tbody tr th:only-of-type {\n",
       "        vertical-align: middle;\n",
       "    }\n",
       "\n",
       "    .dataframe tbody tr th {\n",
       "        vertical-align: top;\n",
       "    }\n",
       "\n",
       "    .dataframe thead th {\n",
       "        text-align: right;\n",
       "    }\n",
       "</style>\n",
       "<table border=\"1\" class=\"dataframe\">\n",
       "  <thead>\n",
       "    <tr style=\"text-align: right;\">\n",
       "      <th></th>\n",
       "      <th>user_id</th>\n",
       "      <th>gender</th>\n",
       "      <th>occupation</th>\n",
       "      <th>agegroup</th>\n",
       "    </tr>\n",
       "  </thead>\n",
       "  <tbody>\n",
       "    <tr>\n",
       "      <th>0</th>\n",
       "      <td>1</td>\n",
       "      <td>M</td>\n",
       "      <td>technician</td>\n",
       "      <td>20-29</td>\n",
       "    </tr>\n",
       "    <tr>\n",
       "      <th>1</th>\n",
       "      <td>2</td>\n",
       "      <td>F</td>\n",
       "      <td>other</td>\n",
       "      <td>51-60</td>\n",
       "    </tr>\n",
       "    <tr>\n",
       "      <th>2</th>\n",
       "      <td>3</td>\n",
       "      <td>M</td>\n",
       "      <td>writer</td>\n",
       "      <td>20-29</td>\n",
       "    </tr>\n",
       "    <tr>\n",
       "      <th>3</th>\n",
       "      <td>4</td>\n",
       "      <td>M</td>\n",
       "      <td>technician</td>\n",
       "      <td>20-29</td>\n",
       "    </tr>\n",
       "    <tr>\n",
       "      <th>4</th>\n",
       "      <td>5</td>\n",
       "      <td>F</td>\n",
       "      <td>other</td>\n",
       "      <td>30-39</td>\n",
       "    </tr>\n",
       "  </tbody>\n",
       "</table>\n",
       "</div>"
      ],
      "text/plain": [
       "   user_id gender  occupation agegroup\n",
       "0        1      M  technician    20-29\n",
       "1        2      F       other    51-60\n",
       "2        3      M      writer    20-29\n",
       "3        4      M  technician    20-29\n",
       "4        5      F       other    30-39"
      ]
     },
     "execution_count": 4,
     "metadata": {},
     "output_type": "execute_result"
    }
   ],
   "source": [
    "user = pd.read_csv(\"./raw/u.user\", header = None, sep = \"|\")\n",
    "user.columns = [\"user_id\",\"age\",\"gender\",\"occupation\",\"zipcode\"]\n",
    "user = user.drop([\"zipcode\"], axis = 1)\n",
    "\n",
    "bins = [0, 20, 30, 40, 50, 60, np.inf]\n",
    "names = ['<20', '20-29', '30-39','40-49', '51-60', '60+']\n",
    "\n",
    "user['agegroup'] = pd.cut(user['age'], bins, labels=names)\n",
    "user = user.drop([\"age\"], axis = 1)\n",
    "user.head()"
   ]
  },
  {
   "cell_type": "code",
   "execution_count": 5,
   "id": "2d4bfd85-1c24-4ad6-9c54-85d4c507707e",
   "metadata": {},
   "outputs": [
    {
     "name": "stdout",
     "output_type": "stream",
     "text": [
      "(943, 30)\n"
     ]
    },
    {
     "name": "stderr",
     "output_type": "stream",
     "text": [
      "/tmp/ipykernel_11418/3815621287.py:5: FutureWarning: In a future version of pandas all arguments of DataFrame.drop except for the argument 'labels' will be keyword-only.\n",
      "  user_features = pd.concat([user.drop(columnsToEncode, 1),\n",
      "/home/minchan/anaconda3/lib/python3.9/site-packages/sklearn/utils/deprecation.py:87: FutureWarning: Function get_feature_names is deprecated; get_feature_names is deprecated in 1.0 and will be removed in 1.2. Please use get_feature_names_out instead.\n",
      "  warnings.warn(msg, category=FutureWarning)\n"
     ]
    },
    {
     "data": {
      "text/html": [
       "<div>\n",
       "<style scoped>\n",
       "    .dataframe tbody tr th:only-of-type {\n",
       "        vertical-align: middle;\n",
       "    }\n",
       "\n",
       "    .dataframe tbody tr th {\n",
       "        vertical-align: top;\n",
       "    }\n",
       "\n",
       "    .dataframe thead th {\n",
       "        text-align: right;\n",
       "    }\n",
       "</style>\n",
       "<table border=\"1\" class=\"dataframe\">\n",
       "  <thead>\n",
       "    <tr style=\"text-align: right;\">\n",
       "      <th></th>\n",
       "      <th>user_id</th>\n",
       "      <th>agegroup_20-29</th>\n",
       "      <th>agegroup_30-39</th>\n",
       "      <th>agegroup_40-49</th>\n",
       "      <th>agegroup_51-60</th>\n",
       "      <th>agegroup_60+</th>\n",
       "      <th>agegroup_&lt;20</th>\n",
       "      <th>gender_F</th>\n",
       "      <th>gender_M</th>\n",
       "      <th>occupation_administrator</th>\n",
       "      <th>...</th>\n",
       "      <th>occupation_marketing</th>\n",
       "      <th>occupation_none</th>\n",
       "      <th>occupation_other</th>\n",
       "      <th>occupation_programmer</th>\n",
       "      <th>occupation_retired</th>\n",
       "      <th>occupation_salesman</th>\n",
       "      <th>occupation_scientist</th>\n",
       "      <th>occupation_student</th>\n",
       "      <th>occupation_technician</th>\n",
       "      <th>occupation_writer</th>\n",
       "    </tr>\n",
       "  </thead>\n",
       "  <tbody>\n",
       "    <tr>\n",
       "      <th>0</th>\n",
       "      <td>1</td>\n",
       "      <td>1.0</td>\n",
       "      <td>0.0</td>\n",
       "      <td>0.0</td>\n",
       "      <td>0.0</td>\n",
       "      <td>0.0</td>\n",
       "      <td>0.0</td>\n",
       "      <td>0.0</td>\n",
       "      <td>1.0</td>\n",
       "      <td>0.0</td>\n",
       "      <td>...</td>\n",
       "      <td>0.0</td>\n",
       "      <td>0.0</td>\n",
       "      <td>0.0</td>\n",
       "      <td>0.0</td>\n",
       "      <td>0.0</td>\n",
       "      <td>0.0</td>\n",
       "      <td>0.0</td>\n",
       "      <td>0.0</td>\n",
       "      <td>1.0</td>\n",
       "      <td>0.0</td>\n",
       "    </tr>\n",
       "    <tr>\n",
       "      <th>1</th>\n",
       "      <td>2</td>\n",
       "      <td>0.0</td>\n",
       "      <td>0.0</td>\n",
       "      <td>0.0</td>\n",
       "      <td>1.0</td>\n",
       "      <td>0.0</td>\n",
       "      <td>0.0</td>\n",
       "      <td>1.0</td>\n",
       "      <td>0.0</td>\n",
       "      <td>0.0</td>\n",
       "      <td>...</td>\n",
       "      <td>0.0</td>\n",
       "      <td>0.0</td>\n",
       "      <td>1.0</td>\n",
       "      <td>0.0</td>\n",
       "      <td>0.0</td>\n",
       "      <td>0.0</td>\n",
       "      <td>0.0</td>\n",
       "      <td>0.0</td>\n",
       "      <td>0.0</td>\n",
       "      <td>0.0</td>\n",
       "    </tr>\n",
       "    <tr>\n",
       "      <th>2</th>\n",
       "      <td>3</td>\n",
       "      <td>1.0</td>\n",
       "      <td>0.0</td>\n",
       "      <td>0.0</td>\n",
       "      <td>0.0</td>\n",
       "      <td>0.0</td>\n",
       "      <td>0.0</td>\n",
       "      <td>0.0</td>\n",
       "      <td>1.0</td>\n",
       "      <td>0.0</td>\n",
       "      <td>...</td>\n",
       "      <td>0.0</td>\n",
       "      <td>0.0</td>\n",
       "      <td>0.0</td>\n",
       "      <td>0.0</td>\n",
       "      <td>0.0</td>\n",
       "      <td>0.0</td>\n",
       "      <td>0.0</td>\n",
       "      <td>0.0</td>\n",
       "      <td>0.0</td>\n",
       "      <td>1.0</td>\n",
       "    </tr>\n",
       "    <tr>\n",
       "      <th>3</th>\n",
       "      <td>4</td>\n",
       "      <td>1.0</td>\n",
       "      <td>0.0</td>\n",
       "      <td>0.0</td>\n",
       "      <td>0.0</td>\n",
       "      <td>0.0</td>\n",
       "      <td>0.0</td>\n",
       "      <td>0.0</td>\n",
       "      <td>1.0</td>\n",
       "      <td>0.0</td>\n",
       "      <td>...</td>\n",
       "      <td>0.0</td>\n",
       "      <td>0.0</td>\n",
       "      <td>0.0</td>\n",
       "      <td>0.0</td>\n",
       "      <td>0.0</td>\n",
       "      <td>0.0</td>\n",
       "      <td>0.0</td>\n",
       "      <td>0.0</td>\n",
       "      <td>1.0</td>\n",
       "      <td>0.0</td>\n",
       "    </tr>\n",
       "    <tr>\n",
       "      <th>4</th>\n",
       "      <td>5</td>\n",
       "      <td>0.0</td>\n",
       "      <td>1.0</td>\n",
       "      <td>0.0</td>\n",
       "      <td>0.0</td>\n",
       "      <td>0.0</td>\n",
       "      <td>0.0</td>\n",
       "      <td>1.0</td>\n",
       "      <td>0.0</td>\n",
       "      <td>0.0</td>\n",
       "      <td>...</td>\n",
       "      <td>0.0</td>\n",
       "      <td>0.0</td>\n",
       "      <td>1.0</td>\n",
       "      <td>0.0</td>\n",
       "      <td>0.0</td>\n",
       "      <td>0.0</td>\n",
       "      <td>0.0</td>\n",
       "      <td>0.0</td>\n",
       "      <td>0.0</td>\n",
       "      <td>0.0</td>\n",
       "    </tr>\n",
       "  </tbody>\n",
       "</table>\n",
       "<p>5 rows × 30 columns</p>\n",
       "</div>"
      ],
      "text/plain": [
       "   user_id  agegroup_20-29  agegroup_30-39  agegroup_40-49  agegroup_51-60  \\\n",
       "0        1             1.0             0.0             0.0             0.0   \n",
       "1        2             0.0             0.0             0.0             1.0   \n",
       "2        3             1.0             0.0             0.0             0.0   \n",
       "3        4             1.0             0.0             0.0             0.0   \n",
       "4        5             0.0             1.0             0.0             0.0   \n",
       "\n",
       "   agegroup_60+  agegroup_<20  gender_F  gender_M  occupation_administrator  \\\n",
       "0           0.0           0.0       0.0       1.0                       0.0   \n",
       "1           0.0           0.0       1.0       0.0                       0.0   \n",
       "2           0.0           0.0       0.0       1.0                       0.0   \n",
       "3           0.0           0.0       0.0       1.0                       0.0   \n",
       "4           0.0           0.0       1.0       0.0                       0.0   \n",
       "\n",
       "   ...  occupation_marketing  occupation_none  occupation_other  \\\n",
       "0  ...                   0.0              0.0               0.0   \n",
       "1  ...                   0.0              0.0               1.0   \n",
       "2  ...                   0.0              0.0               0.0   \n",
       "3  ...                   0.0              0.0               0.0   \n",
       "4  ...                   0.0              0.0               1.0   \n",
       "\n",
       "   occupation_programmer  occupation_retired  occupation_salesman  \\\n",
       "0                    0.0                 0.0                  0.0   \n",
       "1                    0.0                 0.0                  0.0   \n",
       "2                    0.0                 0.0                  0.0   \n",
       "3                    0.0                 0.0                  0.0   \n",
       "4                    0.0                 0.0                  0.0   \n",
       "\n",
       "   occupation_scientist  occupation_student  occupation_technician  \\\n",
       "0                   0.0                 0.0                    1.0   \n",
       "1                   0.0                 0.0                    0.0   \n",
       "2                   0.0                 0.0                    0.0   \n",
       "3                   0.0                 0.0                    1.0   \n",
       "4                   0.0                 0.0                    0.0   \n",
       "\n",
       "   occupation_writer  \n",
       "0                0.0  \n",
       "1                0.0  \n",
       "2                1.0  \n",
       "3                0.0  \n",
       "4                0.0  \n",
       "\n",
       "[5 rows x 30 columns]"
      ]
     },
     "execution_count": 5,
     "metadata": {},
     "output_type": "execute_result"
    }
   ],
   "source": [
    "columnsToEncode = [\"agegroup\",\"gender\",\"occupation\"]\n",
    "myEncoder = OneHotEncoder(sparse=False, handle_unknown='ignore')\n",
    "myEncoder.fit(user[columnsToEncode])\n",
    "\n",
    "user_features = pd.concat([user.drop(columnsToEncode, 1),\n",
    "                           pd.DataFrame(myEncoder.transform(user[columnsToEncode]), \n",
    "                                        columns = myEncoder.get_feature_names(columnsToEncode))], axis=1).reindex()\n",
    "print(user_features.shape)\n",
    "user_features.head()"
   ]
  },
  {
   "cell_type": "code",
   "execution_count": 6,
   "id": "a6aac64e-ceeb-4910-b57b-d6f02132aff7",
   "metadata": {},
   "outputs": [],
   "source": [
    "user_features_array = user_features.to_numpy()\n",
    "\n",
    "user_id_to_feature = dict(zip(user_features_array[:,0], user_features_array[:,1:]))"
   ]
  },
  {
   "cell_type": "code",
   "execution_count": 7,
   "id": "3ef878f3-26e7-4dbb-a016-dda0e64f0a74",
   "metadata": {},
   "outputs": [
    {
     "data": {
      "text/plain": [
       "array([0., 0., 0., 1., 0., 0., 1., 0., 0., 0., 0., 0., 0., 0., 0., 0., 0.,\n",
       "       0., 0., 0., 0., 1., 0., 0., 0., 0., 0., 0., 0.])"
      ]
     },
     "execution_count": 7,
     "metadata": {},
     "output_type": "execute_result"
    }
   ],
   "source": [
    "user_id_to_feature[2]"
   ]
  },
  {
   "cell_type": "markdown",
   "id": "7a6133c1-8f5b-411a-acf2-431ad454fc84",
   "metadata": {},
   "source": [
    "## Movie"
   ]
  },
  {
   "cell_type": "code",
   "execution_count": 8,
   "id": "fe43b83e-c300-4f52-94fd-ecbd20a783a9",
   "metadata": {},
   "outputs": [
    {
     "data": {
      "text/html": [
       "<div>\n",
       "<style scoped>\n",
       "    .dataframe tbody tr th:only-of-type {\n",
       "        vertical-align: middle;\n",
       "    }\n",
       "\n",
       "    .dataframe tbody tr th {\n",
       "        vertical-align: top;\n",
       "    }\n",
       "\n",
       "    .dataframe thead th {\n",
       "        text-align: right;\n",
       "    }\n",
       "</style>\n",
       "<table border=\"1\" class=\"dataframe\">\n",
       "  <thead>\n",
       "    <tr style=\"text-align: right;\">\n",
       "      <th></th>\n",
       "      <th>movie_id</th>\n",
       "      <th>unknown</th>\n",
       "      <th>Action</th>\n",
       "      <th>Adventure</th>\n",
       "      <th>Animation</th>\n",
       "      <th>Children's</th>\n",
       "      <th>Comedy</th>\n",
       "      <th>Crime</th>\n",
       "      <th>Documentary</th>\n",
       "      <th>Drama</th>\n",
       "      <th>Fantasy</th>\n",
       "      <th>Film-Noir</th>\n",
       "      <th>Horror</th>\n",
       "      <th>Musical</th>\n",
       "      <th>Mystery</th>\n",
       "      <th>Romance</th>\n",
       "      <th>Sci-Fi</th>\n",
       "      <th>Thriller</th>\n",
       "      <th>War</th>\n",
       "      <th>Western</th>\n",
       "    </tr>\n",
       "  </thead>\n",
       "  <tbody>\n",
       "    <tr>\n",
       "      <th>0</th>\n",
       "      <td>1</td>\n",
       "      <td>0</td>\n",
       "      <td>0</td>\n",
       "      <td>0</td>\n",
       "      <td>1</td>\n",
       "      <td>1</td>\n",
       "      <td>1</td>\n",
       "      <td>0</td>\n",
       "      <td>0</td>\n",
       "      <td>0</td>\n",
       "      <td>0</td>\n",
       "      <td>0</td>\n",
       "      <td>0</td>\n",
       "      <td>0</td>\n",
       "      <td>0</td>\n",
       "      <td>0</td>\n",
       "      <td>0</td>\n",
       "      <td>0</td>\n",
       "      <td>0</td>\n",
       "      <td>0</td>\n",
       "    </tr>\n",
       "    <tr>\n",
       "      <th>1</th>\n",
       "      <td>2</td>\n",
       "      <td>0</td>\n",
       "      <td>1</td>\n",
       "      <td>1</td>\n",
       "      <td>0</td>\n",
       "      <td>0</td>\n",
       "      <td>0</td>\n",
       "      <td>0</td>\n",
       "      <td>0</td>\n",
       "      <td>0</td>\n",
       "      <td>0</td>\n",
       "      <td>0</td>\n",
       "      <td>0</td>\n",
       "      <td>0</td>\n",
       "      <td>0</td>\n",
       "      <td>0</td>\n",
       "      <td>0</td>\n",
       "      <td>1</td>\n",
       "      <td>0</td>\n",
       "      <td>0</td>\n",
       "    </tr>\n",
       "    <tr>\n",
       "      <th>2</th>\n",
       "      <td>3</td>\n",
       "      <td>0</td>\n",
       "      <td>0</td>\n",
       "      <td>0</td>\n",
       "      <td>0</td>\n",
       "      <td>0</td>\n",
       "      <td>0</td>\n",
       "      <td>0</td>\n",
       "      <td>0</td>\n",
       "      <td>0</td>\n",
       "      <td>0</td>\n",
       "      <td>0</td>\n",
       "      <td>0</td>\n",
       "      <td>0</td>\n",
       "      <td>0</td>\n",
       "      <td>0</td>\n",
       "      <td>0</td>\n",
       "      <td>1</td>\n",
       "      <td>0</td>\n",
       "      <td>0</td>\n",
       "    </tr>\n",
       "    <tr>\n",
       "      <th>3</th>\n",
       "      <td>4</td>\n",
       "      <td>0</td>\n",
       "      <td>1</td>\n",
       "      <td>0</td>\n",
       "      <td>0</td>\n",
       "      <td>0</td>\n",
       "      <td>1</td>\n",
       "      <td>0</td>\n",
       "      <td>0</td>\n",
       "      <td>1</td>\n",
       "      <td>0</td>\n",
       "      <td>0</td>\n",
       "      <td>0</td>\n",
       "      <td>0</td>\n",
       "      <td>0</td>\n",
       "      <td>0</td>\n",
       "      <td>0</td>\n",
       "      <td>0</td>\n",
       "      <td>0</td>\n",
       "      <td>0</td>\n",
       "    </tr>\n",
       "    <tr>\n",
       "      <th>4</th>\n",
       "      <td>5</td>\n",
       "      <td>0</td>\n",
       "      <td>0</td>\n",
       "      <td>0</td>\n",
       "      <td>0</td>\n",
       "      <td>0</td>\n",
       "      <td>0</td>\n",
       "      <td>1</td>\n",
       "      <td>0</td>\n",
       "      <td>1</td>\n",
       "      <td>0</td>\n",
       "      <td>0</td>\n",
       "      <td>0</td>\n",
       "      <td>0</td>\n",
       "      <td>0</td>\n",
       "      <td>0</td>\n",
       "      <td>0</td>\n",
       "      <td>1</td>\n",
       "      <td>0</td>\n",
       "      <td>0</td>\n",
       "    </tr>\n",
       "  </tbody>\n",
       "</table>\n",
       "</div>"
      ],
      "text/plain": [
       "   movie_id  unknown  Action  Adventure  Animation  Children's  Comedy  Crime  \\\n",
       "0         1        0       0          0          1           1       1      0   \n",
       "1         2        0       1          1          0           0       0      0   \n",
       "2         3        0       0          0          0           0       0      0   \n",
       "3         4        0       1          0          0           0       1      0   \n",
       "4         5        0       0          0          0           0       0      1   \n",
       "\n",
       "   Documentary  Drama  Fantasy  Film-Noir  Horror  Musical  Mystery  Romance  \\\n",
       "0            0      0        0          0       0        0        0        0   \n",
       "1            0      0        0          0       0        0        0        0   \n",
       "2            0      0        0          0       0        0        0        0   \n",
       "3            0      1        0          0       0        0        0        0   \n",
       "4            0      1        0          0       0        0        0        0   \n",
       "\n",
       "   Sci-Fi  Thriller  War  Western  \n",
       "0       0         0    0        0  \n",
       "1       0         1    0        0  \n",
       "2       0         1    0        0  \n",
       "3       0         0    0        0  \n",
       "4       0         1    0        0  "
      ]
     },
     "execution_count": 8,
     "metadata": {},
     "output_type": "execute_result"
    }
   ],
   "source": [
    "movie = pd.read_csv(\"./raw/u.item\", header = None, sep = \"|\", encoding='latin-1')\n",
    "movie.columns = [\"movie_id\", \"movie_title\", \"release_date\", \"video_release_date\", \"IMDb_URL\", \n",
    "                  \"unknown\", \"Action\", \"Adventure\",\"Animation\",\"Children's\",\"Comedy\",\"Crime\",\"Documentary\",\"Drama\",\"Fantasy\",\n",
    "                  \"Film-Noir\",\"Horror\", \"Musical\", \"Mystery\",\"Romance\",\"Sci-Fi\",\"Thriller\", \"War\",\"Western\"]\n",
    "movie_features = movie.drop([\"movie_title\",\"release_date\", \"video_release_date\", \"IMDb_URL\"],axis = 1)\n",
    "movie_features.head()"
   ]
  },
  {
   "cell_type": "code",
   "execution_count": 9,
   "id": "6eb7717f-5ef2-4012-939a-f066bd900745",
   "metadata": {},
   "outputs": [],
   "source": [
    "movie_features_array = movie_features.to_numpy()"
   ]
  },
  {
   "cell_type": "code",
   "execution_count": 10,
   "id": "718afa88-a083-4b64-b330-7c967495c8e3",
   "metadata": {},
   "outputs": [
    {
     "data": {
      "text/plain": [
       "(1682, 20)"
      ]
     },
     "execution_count": 10,
     "metadata": {},
     "output_type": "execute_result"
    }
   ],
   "source": [
    "movie_features.shape"
   ]
  },
  {
   "cell_type": "markdown",
   "id": "7dc78dce-3c3e-44ba-b69a-c2b13293604b",
   "metadata": {},
   "source": [
    "## Data"
   ]
  },
  {
   "cell_type": "code",
   "execution_count": 53,
   "id": "ef751e94-3114-436f-9b45-bc98642c69e7",
   "metadata": {},
   "outputs": [
    {
     "data": {
      "text/plain": [
       "4863"
      ]
     },
     "execution_count": 53,
     "metadata": {},
     "output_type": "execute_result"
    }
   ],
   "source": [
    "data = pd.read_csv(\"./raw/u.data\", sep =\"\\t\", header=None, names = [\"user_id\", \"movie_id\",\"rating\", \"timestamp\"])\n",
    "data = data.drop([\"timestamp\"], axis = 1)\n",
    "\n",
    "data.groupby(\"movie_id\").count().sort_values(\"user_id\", ascending = False).head(n)[\"rating\"].sum()"
   ]
  },
  {
   "cell_type": "code",
   "execution_count": 54,
   "id": "d49ac67a-4540-4822-b2d8-79c1ecf1cca0",
   "metadata": {},
   "outputs": [],
   "source": [
    "# Obtain top movies index\n",
    "top_movies_index = data.groupby(\"movie_id\").count().sort_values(\"user_id\", ascending = False).head(top_n).reset_index()[\"movie_id\"]\n",
    "top_movies_features = movie_features[movie_features.movie_id.isin(top_movies_index)]\n",
    "\n",
    "top_movies_id_dict = dict(zip(top_movies_features['movie_id'],range(top_n)))\n",
    "top_movies_features = top_movies_features.replace({\"movie_id\": top_movies_id_dict})\n",
    "top_movies_index = data.groupby(\"movie_id\").count().sort_values(\"user_id\", ascending = False).head(top_n).reset_index()[\"movie_id\"]\n",
    "\n",
    "top_movies_features_array = top_movies_features.to_numpy()\n",
    "top_movies_id_to_feature = dict(zip(top_movies_features_array[:,0], top_movies_features_array[:,1:]))"
   ]
  },
  {
   "cell_type": "code",
   "execution_count": 55,
   "id": "3839dbb7-88b5-4e5a-bca7-4f64a6eea337",
   "metadata": {},
   "outputs": [
    {
     "data": {
      "text/html": [
       "<div>\n",
       "<style scoped>\n",
       "    .dataframe tbody tr th:only-of-type {\n",
       "        vertical-align: middle;\n",
       "    }\n",
       "\n",
       "    .dataframe tbody tr th {\n",
       "        vertical-align: top;\n",
       "    }\n",
       "\n",
       "    .dataframe thead th {\n",
       "        text-align: right;\n",
       "    }\n",
       "</style>\n",
       "<table border=\"1\" class=\"dataframe\">\n",
       "  <thead>\n",
       "    <tr style=\"text-align: right;\">\n",
       "      <th></th>\n",
       "      <th>user_id</th>\n",
       "      <th>movie_id</th>\n",
       "      <th>rating</th>\n",
       "    </tr>\n",
       "  </thead>\n",
       "  <tbody>\n",
       "    <tr>\n",
       "      <th>24</th>\n",
       "      <td>308</td>\n",
       "      <td>0</td>\n",
       "      <td>4</td>\n",
       "    </tr>\n",
       "    <tr>\n",
       "      <th>50</th>\n",
       "      <td>251</td>\n",
       "      <td>2</td>\n",
       "      <td>4</td>\n",
       "    </tr>\n",
       "    <tr>\n",
       "      <th>53</th>\n",
       "      <td>25</td>\n",
       "      <td>4</td>\n",
       "      <td>5</td>\n",
       "    </tr>\n",
       "    <tr>\n",
       "      <th>61</th>\n",
       "      <td>20</td>\n",
       "      <td>7</td>\n",
       "      <td>1</td>\n",
       "    </tr>\n",
       "    <tr>\n",
       "      <th>100</th>\n",
       "      <td>32</td>\n",
       "      <td>8</td>\n",
       "      <td>3</td>\n",
       "    </tr>\n",
       "  </tbody>\n",
       "</table>\n",
       "</div>"
      ],
      "text/plain": [
       "     user_id  movie_id  rating\n",
       "24       308         0       4\n",
       "50       251         2       4\n",
       "53        25         4       5\n",
       "61        20         7       1\n",
       "100       32         8       3"
      ]
     },
     "execution_count": 55,
     "metadata": {},
     "output_type": "execute_result"
    }
   ],
   "source": [
    "filtered_data_original = data[data[\"movie_id\"].isin(top_movies_index)]\n",
    "filtered_data_original = filtered_data_original.replace({\"movie_id\": top_movies_id_dict})\n",
    "filtered_data_original.head()"
   ]
  },
  {
   "cell_type": "code",
   "execution_count": 56,
   "id": "042ab15f-1dd4-4140-a58b-89ca3df52656",
   "metadata": {},
   "outputs": [
    {
     "name": "stdout",
     "output_type": "stream",
     "text": [
      "(4863, 3)\n"
     ]
    },
    {
     "data": {
      "text/html": [
       "<div>\n",
       "<style scoped>\n",
       "    .dataframe tbody tr th:only-of-type {\n",
       "        vertical-align: middle;\n",
       "    }\n",
       "\n",
       "    .dataframe tbody tr th {\n",
       "        vertical-align: top;\n",
       "    }\n",
       "\n",
       "    .dataframe thead th {\n",
       "        text-align: right;\n",
       "    }\n",
       "</style>\n",
       "<table border=\"1\" class=\"dataframe\">\n",
       "  <thead>\n",
       "    <tr style=\"text-align: right;\">\n",
       "      <th></th>\n",
       "      <th>user_id</th>\n",
       "      <th>movie_id</th>\n",
       "      <th>reward</th>\n",
       "    </tr>\n",
       "  </thead>\n",
       "  <tbody>\n",
       "    <tr>\n",
       "      <th>0</th>\n",
       "      <td>308</td>\n",
       "      <td>0</td>\n",
       "      <td>0</td>\n",
       "    </tr>\n",
       "    <tr>\n",
       "      <th>1</th>\n",
       "      <td>251</td>\n",
       "      <td>2</td>\n",
       "      <td>0</td>\n",
       "    </tr>\n",
       "    <tr>\n",
       "      <th>2</th>\n",
       "      <td>25</td>\n",
       "      <td>4</td>\n",
       "      <td>1</td>\n",
       "    </tr>\n",
       "    <tr>\n",
       "      <th>3</th>\n",
       "      <td>20</td>\n",
       "      <td>7</td>\n",
       "      <td>0</td>\n",
       "    </tr>\n",
       "    <tr>\n",
       "      <th>4</th>\n",
       "      <td>32</td>\n",
       "      <td>8</td>\n",
       "      <td>0</td>\n",
       "    </tr>\n",
       "  </tbody>\n",
       "</table>\n",
       "</div>"
      ],
      "text/plain": [
       "   user_id  movie_id  reward\n",
       "0      308         0       0\n",
       "1      251         2       0\n",
       "2       25         4       1\n",
       "3       20         7       0\n",
       "4       32         8       0"
      ]
     },
     "execution_count": 56,
     "metadata": {},
     "output_type": "execute_result"
    }
   ],
   "source": [
    "filtered_data_original[\"reward\"] = np.where(filtered_data_original[\"rating\"] <5,0,1)\n",
    "filtered_data_original.pop(\"rating\")\n",
    "filtered_data_original = filtered_data_original.reset_index(drop = True)\n",
    "\n",
    "print(filtered_data_original.shape)\n",
    "filtered_data_original.head()"
   ]
  },
  {
   "cell_type": "code",
   "execution_count": 57,
   "id": "4ba1753c-9716-4b68-b9f6-fec1f05801f2",
   "metadata": {},
   "outputs": [
    {
     "data": {
      "text/plain": [
       "10"
      ]
     },
     "execution_count": 57,
     "metadata": {},
     "output_type": "execute_result"
    }
   ],
   "source": [
    "#User-wise check\n",
    "filtered_data = filtered_data_original.reindex(np.random.permutation(filtered_data_original.index)).reset_index(drop = True)\n",
    "\n",
    "len(set(filtered_data['movie_id'].tolist()))"
   ]
  },
  {
   "cell_type": "markdown",
   "id": "5854595a-890f-4ff4-b409-7a8a8e58bf3f",
   "metadata": {},
   "source": [
    "_________________________________"
   ]
  },
  {
   "cell_type": "markdown",
   "id": "13362074-8d9b-411c-b267-cc4d29848836",
   "metadata": {},
   "source": [
    "## Train Autoencoder"
   ]
  },
  {
   "cell_type": "code",
   "execution_count": 74,
   "id": "cd69f79a-8713-4f69-866c-eb251e92ea4f",
   "metadata": {},
   "outputs": [
    {
     "data": {
      "text/plain": [
       "(4863,)"
      ]
     },
     "execution_count": 74,
     "metadata": {},
     "output_type": "execute_result"
    }
   ],
   "source": [
    "Y = filtered_data_original['reward'].to_numpy()\n",
    "Y.shape"
   ]
  },
  {
   "cell_type": "code",
   "execution_count": 75,
   "id": "fc517d8d-ac32-4804-b4c3-9a3d344e5b01",
   "metadata": {},
   "outputs": [],
   "source": [
    "class Autoencoder(nn.Module):\n",
    "    def __init__(self, d=d, emb_dim=EMB_DIM):\n",
    "        super().__init__()\n",
    "        self.emb_dim = emb_dim\n",
    "        self.d = d\n",
    "        self.encoder = nn.Linear(self.d, self.emb_dim)\n",
    "        self.decoder = nn.Linear(self.emb_dim, self.d)\n",
    "                \n",
    "    def forward(self, x):\n",
    "        batch_size = x.shape[0]\n",
    "        x = x.view(x.shape[0],-1)\n",
    "        encoded = self.encoder(x)\n",
    "        out = self.decoder(encoded).view(batch_size, self.d)\n",
    "        return out\n",
    "    \n",
    "    def encoding_result(self, x):\n",
    "        batch_size = x.shape[0]\n",
    "        x = x.view(x.shape[0],-1)\n",
    "        encoded = self.encoder(x)\n",
    "        return encoded"
   ]
  },
  {
   "cell_type": "code",
   "execution_count": 76,
   "id": "b7ed4027-ff65-4b71-8d1e-dfc2d7845934",
   "metadata": {},
   "outputs": [],
   "source": [
    "model = Autoencoder(d=d, emb_dim=EMB_DIM).to(device)\n",
    "loss_func = nn.MSELoss()\n",
    "optimizer = torch.optim.Adam(model.parameters(), lr=learning_rate, weight_decay=weight_decay)"
   ]
  },
  {
   "cell_type": "code",
   "execution_count": 77,
   "id": "99c8fd2a-39c1-4a37-ae3d-7b4f93537724",
   "metadata": {},
   "outputs": [
    {
     "name": "stderr",
     "output_type": "stream",
     "text": [
      "100%|██████████| 250/250 [01:15<00:00,  3.31it/s]\n"
     ]
    }
   ],
   "source": [
    "L = filtered_data_original.shape[0]\n",
    "\n",
    "loss_arr = []\n",
    "\n",
    "for k in tqdm.tqdm(range(num_epoch)):\n",
    "    \n",
    "    for l in range(L//B + 1):\n",
    "        \n",
    "        user_ids  = filtered_data.iloc[l*B:(l+1)*B, :]['user_id'].to_numpy()\n",
    "        movie_ids = filtered_data.iloc[l*B:(l+1)*B, :]['movie_id'].to_numpy()\n",
    "        \n",
    "        feature = []\n",
    "        if option == 'concat':\n",
    "            for user_id, movie_id in zip(user_ids,movie_ids):\n",
    "                user_feature = user_id_to_feature[user_id]\n",
    "                movie_feature= top_movies_id_to_feature[movie_id]\n",
    "                feature.append(np.concatenate((user_feature, movie_feature)))\n",
    "                \n",
    "        elif option == 'outer':\n",
    "            for user_id, movie_id in zip(user_ids,movie_ids):\n",
    "                user_feature = user_id_to_feature[user_id]\n",
    "                movie_feature= top_movies_id_to_feature[movie_id]\n",
    "                feature.append(np.outer(user_feature, movie_feature).flatten())\n",
    "                \n",
    "        elif option == 'outer1':\n",
    "            for user_id, movie_id in zip(user_ids,movie_ids):\n",
    "                user_feature = user_id_to_feature[user_id]\n",
    "                movie_feature= top_movies_id_to_feature[movie_id]\n",
    "                feature.append(np.outer(np.append(user_feature,1), np.append(movie_feature,1)).flatten())\n",
    "                \n",
    "        else:\n",
    "            raise NotImplemented\n",
    "            \n",
    "        feature = np.vstack(feature).copy()\n",
    "        x = torch.from_numpy(feature).type(torch.FloatTensor).to(device)\n",
    "\n",
    "        optimizer.zero_grad()\n",
    "        output = model.forward(x)\n",
    "        loss = loss_func(output,x)\n",
    "        loss.backward()\n",
    "        optimizer.step()\n",
    "\n",
    "    loss_arr.append(loss.cpu().data.numpy())"
   ]
  },
  {
   "cell_type": "code",
   "execution_count": 78,
   "id": "bc8f9e44-cc85-428f-a2f4-c4ba9d8e8362",
   "metadata": {},
   "outputs": [
    {
     "data": {
      "image/png": "[encoded data removed]",
      "text/plain": [
       "<Figure size 432x288 with 1 Axes>"
      ]
     },
     "metadata": {
      "needs_background": "light"
     },
     "output_type": "display_data"
    }
   ],
   "source": [
    "plt.plot(loss_arr)\n",
    "plt.yscale(\"log\")"
   ]
  },
  {
   "cell_type": "code",
   "execution_count": 82,
   "id": "eeca64b8-b631-4805-9c09-5478a65ce689",
   "metadata": {},
   "outputs": [
    {
     "name": "stdout",
     "output_type": "stream",
     "text": [
      "tensor([0., 0., 0., 0., 0., 0., 0., 0., 0., 0.], device='cuda:0')\n",
      "tensor([ 0.5908, -0.3837,  0.3829, -0.2909,  0.8253,  0.3597, -0.6382,  0.2419,\n",
      "        -0.2500,  0.6509], device='cuda:0')\n",
      "tensor([-1.4147e-06,  1.5599e-04,  6.3190e-02,  1.1366e-03,  1.2046e-03,\n",
      "         7.0675e-03,  3.8333e-02,  1.5314e-05, -8.1432e-03,  1.8841e-05],\n",
      "       device='cuda:0')\n"
     ]
    }
   ],
   "source": [
    "model.eval()\n",
    "with torch.no_grad():\n",
    "    model.eval()\n",
    "    print(x[0][:10])\n",
    "    print(model.encoding_result(x)[0][:10])\n",
    "    print(model.forward(x)[0][:10])"
   ]
  },
  {
   "cell_type": "markdown",
   "id": "32e9a87c-57a1-4bb7-ac4c-8e9b1b7410b9",
   "metadata": {},
   "source": [
    "## Save"
   ]
  },
  {
   "cell_type": "markdown",
   "id": "ef0883b8-b4ef-42b6-9dc3-8a6dae8fd048",
   "metadata": {},
   "source": [
    "저장 구조: \n",
    "\n",
    "- Autoencoder: user feature와 movie feature concat한 것을 처리\n",
    "- filtered dataset: pandas dataframe. user_id/movie_id/reward를 담고있다.\n",
    "- user_id에 대한 one-hot feature의 dictionary.\n",
    "- selected movie(n개)에 대한 one hot feature를 array로 저장함 (50"
   ]
  },
  {
   "cell_type": "code",
   "execution_count": 80,
   "id": "3786484c-53cc-4260-b256-59f2285eb8fc",
   "metadata": {},
   "outputs": [],
   "source": [
    "# Save Autoencoder\n",
    "torch.save(model.state_dict(), '../../models/ml100k_autoencoder_{}{}.pt'.format(option,load_tail))\n",
    "\n",
    "# Save filtered_dataset\n",
    "filtered_data.to_csv('./preprocess/filtered_data{}.csv'.format(load_tail),index = False)\n",
    "\n",
    "# Save user_features with dictionary\n",
    "with open('./preprocess/user_id_to_feature{}.pickle'.format(load_tail), 'wb') as f:\n",
    "    pickle.dump(user_id_to_feature, f, pickle.HIGHEST_PROTOCOL)\n",
    "\n",
    "# Save top_movie_features\n",
    "top_movies_array = (top_movies_features.drop(columns='movie_id')).to_numpy()\n",
    "np.save('./preprocess/top_movies_array{}'.format(load_tail),top_movies_array)"
   ]
  },
  {
   "cell_type": "code",
   "execution_count": null,
   "id": "8014a547-75a3-4c9a-bdb0-84dcb34167e8",
   "metadata": {},
   "outputs": [],
   "source": [
    "print(top_movies_array.shape)"
   ]
  },
  {
   "cell_type": "code",
   "execution_count": null,
   "id": "13d5b35d-6743-4518-8c2f-0029f94587a1",
   "metadata": {},
   "outputs": [],
   "source": [
    "pd.read_csv('./filtered_data.csv', index_col = 0)"
   ]
  }
 ],
 "metadata": {
  "kernelspec": {
   "display_name": "Python 3 (ipykernel)",
   "language": "python",
   "name": "python3"
  },
  "language_info": {
   "codemirror_mode": {
    "name": "ipython",
    "version": 3
   },
   "file_extension": ".py",
   "mimetype": "text/x-python",
   "name": "python",
   "nbconvert_exporter": "python",
   "pygments_lexer": "ipython3",
   "version": "3.9.12"
  }
 },
 "nbformat": 4,
 "nbformat_minor": 5
}
