{
 "cells": [
  {
   "cell_type": "code",
   "execution_count": 4,
   "id": "22ed7fa4-98c1-451a-b2ea-c5aeb46a56b4",
   "metadata": {},
   "outputs": [
    {
     "name": "stdout",
     "output_type": "stream",
     "text": [
      "cuda:0\n"
     ]
    }
   ],
   "source": [
    "import numpy as np\n",
    "import pandas as pd\n",
    "from sklearn.preprocessing import OneHotEncoder\n",
    "\n",
    "import pickle\n",
    "\n",
    "import torch\n",
    "import torch.nn as nn\n",
    "import torch.optim as optim\n",
    "import torch.nn.init as init\n",
    "import tqdm\n",
    "import matplotlib.pyplot as plt\n",
    "\n",
    "device = torch.device(\"cuda:0\" if torch.cuda.is_available() else \"cpu\")\n",
    "print(device)\n",
    "\n",
    "dataset_path = \"../datasets/ml-100k\""
   ]
  },
  {
   "cell_type": "markdown",
   "id": "8ada17d9-009f-4817-a7be-74c7ec00a8b7",
   "metadata": {},
   "source": [
    "___"
   ]
  },
  {
   "cell_type": "markdown",
   "id": "23aeb605-85c7-495a-be5a-7ec48291f921",
   "metadata": {},
   "source": [
    "## USER"
   ]
  },
  {
   "cell_type": "code",
   "execution_count": 5,
   "id": "4906413c-e6cf-457a-b8b8-4b0cbdb73ea3",
   "metadata": {},
   "outputs": [
    {
     "data": {
      "text/html": [
       "<div>\n",
       "<style scoped>\n",
       "    .dataframe tbody tr th:only-of-type {\n",
       "        vertical-align: middle;\n",
       "    }\n",
       "\n",
       "    .dataframe tbody tr th {\n",
       "        vertical-align: top;\n",
       "    }\n",
       "\n",
       "    .dataframe thead th {\n",
       "        text-align: right;\n",
       "    }\n",
       "</style>\n",
       "<table border=\"1\" class=\"dataframe\">\n",
       "  <thead>\n",
       "    <tr style=\"text-align: right;\">\n",
       "      <th></th>\n",
       "      <th>user_id</th>\n",
       "      <th>gender</th>\n",
       "      <th>occupation</th>\n",
       "      <th>agegroup</th>\n",
       "    </tr>\n",
       "  </thead>\n",
       "  <tbody>\n",
       "    <tr>\n",
       "      <th>0</th>\n",
       "      <td>1</td>\n",
       "      <td>M</td>\n",
       "      <td>technician</td>\n",
       "      <td>20-29</td>\n",
       "    </tr>\n",
       "    <tr>\n",
       "      <th>1</th>\n",
       "      <td>2</td>\n",
       "      <td>F</td>\n",
       "      <td>other</td>\n",
       "      <td>51-60</td>\n",
       "    </tr>\n",
       "    <tr>\n",
       "      <th>2</th>\n",
       "      <td>3</td>\n",
       "      <td>M</td>\n",
       "      <td>writer</td>\n",
       "      <td>20-29</td>\n",
       "    </tr>\n",
       "    <tr>\n",
       "      <th>3</th>\n",
       "      <td>4</td>\n",
       "      <td>M</td>\n",
       "      <td>technician</td>\n",
       "      <td>20-29</td>\n",
       "    </tr>\n",
       "    <tr>\n",
       "      <th>4</th>\n",
       "      <td>5</td>\n",
       "      <td>F</td>\n",
       "      <td>other</td>\n",
       "      <td>30-39</td>\n",
       "    </tr>\n",
       "  </tbody>\n",
       "</table>\n",
       "</div>"
      ],
      "text/plain": [
       "   user_id gender  occupation agegroup\n",
       "0        1      M  technician    20-29\n",
       "1        2      F       other    51-60\n",
       "2        3      M      writer    20-29\n",
       "3        4      M  technician    20-29\n",
       "4        5      F       other    30-39"
      ]
     },
     "execution_count": 5,
     "metadata": {},
     "output_type": "execute_result"
    }
   ],
   "source": [
    "user = pd.read_csv(dataset_path+\"/raw/u.user\", header = None, sep = \"|\")\n",
    "user.columns = [\"user_id\",\"age\",\"gender\",\"occupation\",\"zipcode\"]\n",
    "user = user.drop([\"zipcode\"], axis = 1)\n",
    "\n",
    "bins = [0, 20, 30, 40, 50, 60, np.inf]\n",
    "names = ['<20', '20-29', '30-39','40-49', '51-60', '60+']\n",
    "\n",
    "user['agegroup'] = pd.cut(user['age'], bins, labels=names)\n",
    "user = user.drop([\"age\"], axis = 1)\n",
    "user.head()"
   ]
  },
  {
   "cell_type": "code",
   "execution_count": 6,
   "id": "2d4bfd85-1c24-4ad6-9c54-85d4c507707e",
   "metadata": {},
   "outputs": [
    {
     "name": "stdout",
     "output_type": "stream",
     "text": [
      "(943, 30)\n"
     ]
    },
    {
     "name": "stderr",
     "output_type": "stream",
     "text": [
      "/tmp/ipykernel_18626/3815621287.py:5: FutureWarning: In a future version of pandas all arguments of DataFrame.drop except for the argument 'labels' will be keyword-only.\n",
      "  user_features = pd.concat([user.drop(columnsToEncode, 1),\n",
      "/home/junghunkim/anaconda3/lib/python3.9/site-packages/sklearn/utils/deprecation.py:87: FutureWarning: Function get_feature_names is deprecated; get_feature_names is deprecated in 1.0 and will be removed in 1.2. Please use get_feature_names_out instead.\n",
      "  warnings.warn(msg, category=FutureWarning)\n"
     ]
    },
    {
     "data": {
      "text/html": [
       "<div>\n",
       "<style scoped>\n",
       "    .dataframe tbody tr th:only-of-type {\n",
       "        vertical-align: middle;\n",
       "    }\n",
       "\n",
       "    .dataframe tbody tr th {\n",
       "        vertical-align: top;\n",
       "    }\n",
       "\n",
       "    .dataframe thead th {\n",
       "        text-align: right;\n",
       "    }\n",
       "</style>\n",
       "<table border=\"1\" class=\"dataframe\">\n",
       "  <thead>\n",
       "    <tr style=\"text-align: right;\">\n",
       "      <th></th>\n",
       "      <th>user_id</th>\n",
       "      <th>agegroup_20-29</th>\n",
       "      <th>agegroup_30-39</th>\n",
       "      <th>agegroup_40-49</th>\n",
       "      <th>agegroup_51-60</th>\n",
       "      <th>agegroup_60+</th>\n",
       "      <th>agegroup_&lt;20</th>\n",
       "      <th>gender_F</th>\n",
       "      <th>gender_M</th>\n",
       "      <th>occupation_administrator</th>\n",
       "      <th>...</th>\n",
       "      <th>occupation_marketing</th>\n",
       "      <th>occupation_none</th>\n",
       "      <th>occupation_other</th>\n",
       "      <th>occupation_programmer</th>\n",
       "      <th>occupation_retired</th>\n",
       "      <th>occupation_salesman</th>\n",
       "      <th>occupation_scientist</th>\n",
       "      <th>occupation_student</th>\n",
       "      <th>occupation_technician</th>\n",
       "      <th>occupation_writer</th>\n",
       "    </tr>\n",
       "  </thead>\n",
       "  <tbody>\n",
       "    <tr>\n",
       "      <th>0</th>\n",
       "      <td>1</td>\n",
       "      <td>1.0</td>\n",
       "      <td>0.0</td>\n",
       "      <td>0.0</td>\n",
       "      <td>0.0</td>\n",
       "      <td>0.0</td>\n",
       "      <td>0.0</td>\n",
       "      <td>0.0</td>\n",
       "      <td>1.0</td>\n",
       "      <td>0.0</td>\n",
       "      <td>...</td>\n",
       "      <td>0.0</td>\n",
       "      <td>0.0</td>\n",
       "      <td>0.0</td>\n",
       "      <td>0.0</td>\n",
       "      <td>0.0</td>\n",
       "      <td>0.0</td>\n",
       "      <td>0.0</td>\n",
       "      <td>0.0</td>\n",
       "      <td>1.0</td>\n",
       "      <td>0.0</td>\n",
       "    </tr>\n",
       "    <tr>\n",
       "      <th>1</th>\n",
       "      <td>2</td>\n",
       "      <td>0.0</td>\n",
       "      <td>0.0</td>\n",
       "      <td>0.0</td>\n",
       "      <td>1.0</td>\n",
       "      <td>0.0</td>\n",
       "      <td>0.0</td>\n",
       "      <td>1.0</td>\n",
       "      <td>0.0</td>\n",
       "      <td>0.0</td>\n",
       "      <td>...</td>\n",
       "      <td>0.0</td>\n",
       "      <td>0.0</td>\n",
       "      <td>1.0</td>\n",
       "      <td>0.0</td>\n",
       "      <td>0.0</td>\n",
       "      <td>0.0</td>\n",
       "      <td>0.0</td>\n",
       "      <td>0.0</td>\n",
       "      <td>0.0</td>\n",
       "      <td>0.0</td>\n",
       "    </tr>\n",
       "    <tr>\n",
       "      <th>2</th>\n",
       "      <td>3</td>\n",
       "      <td>1.0</td>\n",
       "      <td>0.0</td>\n",
       "      <td>0.0</td>\n",
       "      <td>0.0</td>\n",
       "      <td>0.0</td>\n",
       "      <td>0.0</td>\n",
       "      <td>0.0</td>\n",
       "      <td>1.0</td>\n",
       "      <td>0.0</td>\n",
       "      <td>...</td>\n",
       "      <td>0.0</td>\n",
       "      <td>0.0</td>\n",
       "      <td>0.0</td>\n",
       "      <td>0.0</td>\n",
       "      <td>0.0</td>\n",
       "      <td>0.0</td>\n",
       "      <td>0.0</td>\n",
       "      <td>0.0</td>\n",
       "      <td>0.0</td>\n",
       "      <td>1.0</td>\n",
       "    </tr>\n",
       "    <tr>\n",
       "      <th>3</th>\n",
       "      <td>4</td>\n",
       "      <td>1.0</td>\n",
       "      <td>0.0</td>\n",
       "      <td>0.0</td>\n",
       "      <td>0.0</td>\n",
       "      <td>0.0</td>\n",
       "      <td>0.0</td>\n",
       "      <td>0.0</td>\n",
       "      <td>1.0</td>\n",
       "      <td>0.0</td>\n",
       "      <td>...</td>\n",
       "      <td>0.0</td>\n",
       "      <td>0.0</td>\n",
       "      <td>0.0</td>\n",
       "      <td>0.0</td>\n",
       "      <td>0.0</td>\n",
       "      <td>0.0</td>\n",
       "      <td>0.0</td>\n",
       "      <td>0.0</td>\n",
       "      <td>1.0</td>\n",
       "      <td>0.0</td>\n",
       "    </tr>\n",
       "    <tr>\n",
       "      <th>4</th>\n",
       "      <td>5</td>\n",
       "      <td>0.0</td>\n",
       "      <td>1.0</td>\n",
       "      <td>0.0</td>\n",
       "      <td>0.0</td>\n",
       "      <td>0.0</td>\n",
       "      <td>0.0</td>\n",
       "      <td>1.0</td>\n",
       "      <td>0.0</td>\n",
       "      <td>0.0</td>\n",
       "      <td>...</td>\n",
       "      <td>0.0</td>\n",
       "      <td>0.0</td>\n",
       "      <td>1.0</td>\n",
       "      <td>0.0</td>\n",
       "      <td>0.0</td>\n",
       "      <td>0.0</td>\n",
       "      <td>0.0</td>\n",
       "      <td>0.0</td>\n",
       "      <td>0.0</td>\n",
       "      <td>0.0</td>\n",
       "    </tr>\n",
       "  </tbody>\n",
       "</table>\n",
       "<p>5 rows × 30 columns</p>\n",
       "</div>"
      ],
      "text/plain": [
       "   user_id  agegroup_20-29  agegroup_30-39  agegroup_40-49  agegroup_51-60  \\\n",
       "0        1             1.0             0.0             0.0             0.0   \n",
       "1        2             0.0             0.0             0.0             1.0   \n",
       "2        3             1.0             0.0             0.0             0.0   \n",
       "3        4             1.0             0.0             0.0             0.0   \n",
       "4        5             0.0             1.0             0.0             0.0   \n",
       "\n",
       "   agegroup_60+  agegroup_<20  gender_F  gender_M  occupation_administrator  \\\n",
       "0           0.0           0.0       0.0       1.0                       0.0   \n",
       "1           0.0           0.0       1.0       0.0                       0.0   \n",
       "2           0.0           0.0       0.0       1.0                       0.0   \n",
       "3           0.0           0.0       0.0       1.0                       0.0   \n",
       "4           0.0           0.0       1.0       0.0                       0.0   \n",
       "\n",
       "   ...  occupation_marketing  occupation_none  occupation_other  \\\n",
       "0  ...                   0.0              0.0               0.0   \n",
       "1  ...                   0.0              0.0               1.0   \n",
       "2  ...                   0.0              0.0               0.0   \n",
       "3  ...                   0.0              0.0               0.0   \n",
       "4  ...                   0.0              0.0               1.0   \n",
       "\n",
       "   occupation_programmer  occupation_retired  occupation_salesman  \\\n",
       "0                    0.0                 0.0                  0.0   \n",
       "1                    0.0                 0.0                  0.0   \n",
       "2                    0.0                 0.0                  0.0   \n",
       "3                    0.0                 0.0                  0.0   \n",
       "4                    0.0                 0.0                  0.0   \n",
       "\n",
       "   occupation_scientist  occupation_student  occupation_technician  \\\n",
       "0                   0.0                 0.0                    1.0   \n",
       "1                   0.0                 0.0                    0.0   \n",
       "2                   0.0                 0.0                    0.0   \n",
       "3                   0.0                 0.0                    1.0   \n",
       "4                   0.0                 0.0                    0.0   \n",
       "\n",
       "   occupation_writer  \n",
       "0                0.0  \n",
       "1                0.0  \n",
       "2                1.0  \n",
       "3                0.0  \n",
       "4                0.0  \n",
       "\n",
       "[5 rows x 30 columns]"
      ]
     },
     "execution_count": 6,
     "metadata": {},
     "output_type": "execute_result"
    }
   ],
   "source": [
    "columnsToEncode = [\"agegroup\",\"gender\",\"occupation\"]\n",
    "myEncoder = OneHotEncoder(sparse=False, handle_unknown='ignore')\n",
    "myEncoder.fit(user[columnsToEncode])\n",
    "\n",
    "user_features = pd.concat([user.drop(columnsToEncode, 1),\n",
    "                           pd.DataFrame(myEncoder.transform(user[columnsToEncode]), \n",
    "                                        columns = myEncoder.get_feature_names(columnsToEncode))], axis=1).reindex()\n",
    "print(user_features.shape)\n",
    "user_features.head()"
   ]
  },
  {
   "cell_type": "code",
   "execution_count": 7,
   "id": "a6aac64e-ceeb-4910-b57b-d6f02132aff7",
   "metadata": {},
   "outputs": [
    {
     "data": {
      "text/plain": [
       "(943, 30)"
      ]
     },
     "execution_count": 7,
     "metadata": {},
     "output_type": "execute_result"
    }
   ],
   "source": [
    "user_features_array = user_features.to_numpy()\n",
    "\n",
    "user_id_to_feature = dict(zip(user_features_array[:,0], user_features_array[:,1:]))\n",
    "\n",
    "user_features_array.shape"
   ]
  },
  {
   "cell_type": "markdown",
   "id": "7a6133c1-8f5b-411a-acf2-431ad454fc84",
   "metadata": {},
   "source": [
    "## Movie"
   ]
  },
  {
   "cell_type": "code",
   "execution_count": 8,
   "id": "fe43b83e-c300-4f52-94fd-ecbd20a783a9",
   "metadata": {},
   "outputs": [
    {
     "data": {
      "text/html": [
       "<div>\n",
       "<style scoped>\n",
       "    .dataframe tbody tr th:only-of-type {\n",
       "        vertical-align: middle;\n",
       "    }\n",
       "\n",
       "    .dataframe tbody tr th {\n",
       "        vertical-align: top;\n",
       "    }\n",
       "\n",
       "    .dataframe thead th {\n",
       "        text-align: right;\n",
       "    }\n",
       "</style>\n",
       "<table border=\"1\" class=\"dataframe\">\n",
       "  <thead>\n",
       "    <tr style=\"text-align: right;\">\n",
       "      <th></th>\n",
       "      <th>movie_id</th>\n",
       "      <th>unknown</th>\n",
       "      <th>Action</th>\n",
       "      <th>Adventure</th>\n",
       "      <th>Animation</th>\n",
       "      <th>Children's</th>\n",
       "      <th>Comedy</th>\n",
       "      <th>Crime</th>\n",
       "      <th>Documentary</th>\n",
       "      <th>Drama</th>\n",
       "      <th>Fantasy</th>\n",
       "      <th>Film-Noir</th>\n",
       "      <th>Horror</th>\n",
       "      <th>Musical</th>\n",
       "      <th>Mystery</th>\n",
       "      <th>Romance</th>\n",
       "      <th>Sci-Fi</th>\n",
       "      <th>Thriller</th>\n",
       "      <th>War</th>\n",
       "      <th>Western</th>\n",
       "    </tr>\n",
       "  </thead>\n",
       "  <tbody>\n",
       "    <tr>\n",
       "      <th>0</th>\n",
       "      <td>1</td>\n",
       "      <td>0</td>\n",
       "      <td>0</td>\n",
       "      <td>0</td>\n",
       "      <td>1</td>\n",
       "      <td>1</td>\n",
       "      <td>1</td>\n",
       "      <td>0</td>\n",
       "      <td>0</td>\n",
       "      <td>0</td>\n",
       "      <td>0</td>\n",
       "      <td>0</td>\n",
       "      <td>0</td>\n",
       "      <td>0</td>\n",
       "      <td>0</td>\n",
       "      <td>0</td>\n",
       "      <td>0</td>\n",
       "      <td>0</td>\n",
       "      <td>0</td>\n",
       "      <td>0</td>\n",
       "    </tr>\n",
       "    <tr>\n",
       "      <th>1</th>\n",
       "      <td>2</td>\n",
       "      <td>0</td>\n",
       "      <td>1</td>\n",
       "      <td>1</td>\n",
       "      <td>0</td>\n",
       "      <td>0</td>\n",
       "      <td>0</td>\n",
       "      <td>0</td>\n",
       "      <td>0</td>\n",
       "      <td>0</td>\n",
       "      <td>0</td>\n",
       "      <td>0</td>\n",
       "      <td>0</td>\n",
       "      <td>0</td>\n",
       "      <td>0</td>\n",
       "      <td>0</td>\n",
       "      <td>0</td>\n",
       "      <td>1</td>\n",
       "      <td>0</td>\n",
       "      <td>0</td>\n",
       "    </tr>\n",
       "    <tr>\n",
       "      <th>2</th>\n",
       "      <td>3</td>\n",
       "      <td>0</td>\n",
       "      <td>0</td>\n",
       "      <td>0</td>\n",
       "      <td>0</td>\n",
       "      <td>0</td>\n",
       "      <td>0</td>\n",
       "      <td>0</td>\n",
       "      <td>0</td>\n",
       "      <td>0</td>\n",
       "      <td>0</td>\n",
       "      <td>0</td>\n",
       "      <td>0</td>\n",
       "      <td>0</td>\n",
       "      <td>0</td>\n",
       "      <td>0</td>\n",
       "      <td>0</td>\n",
       "      <td>1</td>\n",
       "      <td>0</td>\n",
       "      <td>0</td>\n",
       "    </tr>\n",
       "    <tr>\n",
       "      <th>3</th>\n",
       "      <td>4</td>\n",
       "      <td>0</td>\n",
       "      <td>1</td>\n",
       "      <td>0</td>\n",
       "      <td>0</td>\n",
       "      <td>0</td>\n",
       "      <td>1</td>\n",
       "      <td>0</td>\n",
       "      <td>0</td>\n",
       "      <td>1</td>\n",
       "      <td>0</td>\n",
       "      <td>0</td>\n",
       "      <td>0</td>\n",
       "      <td>0</td>\n",
       "      <td>0</td>\n",
       "      <td>0</td>\n",
       "      <td>0</td>\n",
       "      <td>0</td>\n",
       "      <td>0</td>\n",
       "      <td>0</td>\n",
       "    </tr>\n",
       "    <tr>\n",
       "      <th>4</th>\n",
       "      <td>5</td>\n",
       "      <td>0</td>\n",
       "      <td>0</td>\n",
       "      <td>0</td>\n",
       "      <td>0</td>\n",
       "      <td>0</td>\n",
       "      <td>0</td>\n",
       "      <td>1</td>\n",
       "      <td>0</td>\n",
       "      <td>1</td>\n",
       "      <td>0</td>\n",
       "      <td>0</td>\n",
       "      <td>0</td>\n",
       "      <td>0</td>\n",
       "      <td>0</td>\n",
       "      <td>0</td>\n",
       "      <td>0</td>\n",
       "      <td>1</td>\n",
       "      <td>0</td>\n",
       "      <td>0</td>\n",
       "    </tr>\n",
       "  </tbody>\n",
       "</table>\n",
       "</div>"
      ],
      "text/plain": [
       "   movie_id  unknown  Action  Adventure  Animation  Children's  Comedy  Crime  \\\n",
       "0         1        0       0          0          1           1       1      0   \n",
       "1         2        0       1          1          0           0       0      0   \n",
       "2         3        0       0          0          0           0       0      0   \n",
       "3         4        0       1          0          0           0       1      0   \n",
       "4         5        0       0          0          0           0       0      1   \n",
       "\n",
       "   Documentary  Drama  Fantasy  Film-Noir  Horror  Musical  Mystery  Romance  \\\n",
       "0            0      0        0          0       0        0        0        0   \n",
       "1            0      0        0          0       0        0        0        0   \n",
       "2            0      0        0          0       0        0        0        0   \n",
       "3            0      1        0          0       0        0        0        0   \n",
       "4            0      1        0          0       0        0        0        0   \n",
       "\n",
       "   Sci-Fi  Thriller  War  Western  \n",
       "0       0         0    0        0  \n",
       "1       0         1    0        0  \n",
       "2       0         1    0        0  \n",
       "3       0         0    0        0  \n",
       "4       0         1    0        0  "
      ]
     },
     "execution_count": 8,
     "metadata": {},
     "output_type": "execute_result"
    }
   ],
   "source": [
    "movie = pd.read_csv(dataset_path+\"/raw/u.item\", header = None, sep = \"|\", encoding='latin-1')\n",
    "movie.columns = [\"movie_id\", \"movie_title\", \"release_date\", \"video_release_date\", \"IMDb_URL\", \n",
    "                  \"unknown\", \"Action\", \"Adventure\",\"Animation\",\"Children's\",\"Comedy\",\"Crime\",\"Documentary\",\"Drama\",\"Fantasy\",\n",
    "                  \"Film-Noir\",\"Horror\", \"Musical\", \"Mystery\",\"Romance\",\"Sci-Fi\",\"Thriller\", \"War\",\"Western\"]\n",
    "movie_features = movie.drop([\"movie_title\",\"release_date\", \"video_release_date\", \"IMDb_URL\"],axis = 1)\n",
    "movie_features.head()"
   ]
  },
  {
   "cell_type": "code",
   "execution_count": 9,
   "id": "6eb7717f-5ef2-4012-939a-f066bd900745",
   "metadata": {},
   "outputs": [
    {
     "data": {
      "text/plain": [
       "(1682, 20)"
      ]
     },
     "execution_count": 9,
     "metadata": {},
     "output_type": "execute_result"
    }
   ],
   "source": [
    "movie_features_array = movie_features.to_numpy()\n",
    "\n",
    "movie_id_to_feature = dict(zip(movie_features_array[:,0], movie_features_array[:,1:]))\n",
    "\n",
    "movie_features_array.shape"
   ]
  },
  {
   "cell_type": "markdown",
   "id": "7dc78dce-3c3e-44ba-b69a-c2b13293604b",
   "metadata": {},
   "source": [
    "## Data"
   ]
  },
  {
   "cell_type": "code",
   "execution_count": 10,
   "id": "e3727683-becc-44a8-9cc1-eb074dd2c143",
   "metadata": {},
   "outputs": [
    {
     "data": {
      "text/html": [
       "<div>\n",
       "<style scoped>\n",
       "    .dataframe tbody tr th:only-of-type {\n",
       "        vertical-align: middle;\n",
       "    }\n",
       "\n",
       "    .dataframe tbody tr th {\n",
       "        vertical-align: top;\n",
       "    }\n",
       "\n",
       "    .dataframe thead th {\n",
       "        text-align: right;\n",
       "    }\n",
       "</style>\n",
       "<table border=\"1\" class=\"dataframe\">\n",
       "  <thead>\n",
       "    <tr style=\"text-align: right;\">\n",
       "      <th></th>\n",
       "      <th>user_id</th>\n",
       "      <th>movie_id</th>\n",
       "      <th>reward</th>\n",
       "    </tr>\n",
       "  </thead>\n",
       "  <tbody>\n",
       "    <tr>\n",
       "      <th>0</th>\n",
       "      <td>196</td>\n",
       "      <td>242</td>\n",
       "      <td>0</td>\n",
       "    </tr>\n",
       "    <tr>\n",
       "      <th>1</th>\n",
       "      <td>186</td>\n",
       "      <td>302</td>\n",
       "      <td>0</td>\n",
       "    </tr>\n",
       "    <tr>\n",
       "      <th>2</th>\n",
       "      <td>22</td>\n",
       "      <td>377</td>\n",
       "      <td>0</td>\n",
       "    </tr>\n",
       "    <tr>\n",
       "      <th>3</th>\n",
       "      <td>244</td>\n",
       "      <td>51</td>\n",
       "      <td>0</td>\n",
       "    </tr>\n",
       "    <tr>\n",
       "      <th>4</th>\n",
       "      <td>166</td>\n",
       "      <td>346</td>\n",
       "      <td>0</td>\n",
       "    </tr>\n",
       "  </tbody>\n",
       "</table>\n",
       "</div>"
      ],
      "text/plain": [
       "   user_id  movie_id  reward\n",
       "0      196       242       0\n",
       "1      186       302       0\n",
       "2       22       377       0\n",
       "3      244        51       0\n",
       "4      166       346       0"
      ]
     },
     "execution_count": 10,
     "metadata": {},
     "output_type": "execute_result"
    }
   ],
   "source": [
    "data = pd.read_csv(dataset_path+\"/raw/u.data\", sep =\"\\t\", header=None, names = [\"user_id\", \"movie_id\",\"rating\", \"timestamp\"])\n",
    "data = data.drop([\"timestamp\"], axis = 1)\n",
    "\n",
    "data[\"reward\"] = np.where(data[\"rating\"] <5,0,1)\n",
    "data.pop(\"rating\")\n",
    "data = data.reset_index(drop = True)\n",
    "\n",
    "data_array = data.to_numpy()\n",
    "\n",
    "data.head()"
   ]
  },
  {
   "cell_type": "code",
   "execution_count": 11,
   "id": "aeb87894-14a7-4704-8e39-031399affe8c",
   "metadata": {},
   "outputs": [
    {
     "data": {
      "text/plain": [
       "((100000, 48), (100000,))"
      ]
     },
     "execution_count": 11,
     "metadata": {},
     "output_type": "execute_result"
    }
   ],
   "source": [
    "Y = data_array[:,2]\n",
    "\n",
    "X = []\n",
    "for i in range(data_array.shape[0]):\n",
    "    user_id = data_array[i,0]\n",
    "    movie_id= data_array[i,1]\n",
    "    \n",
    "    X.append(np.concatenate((user_id_to_feature[user_id], movie_id_to_feature[movie_id])).copy())\n",
    "\n",
    "X = np.vstack(X)\n",
    "X.shape, Y.shape"
   ]
  },
  {
   "cell_type": "code",
   "execution_count": 12,
   "id": "d26bbea3-d1bb-4c3a-9324-fff244396868",
   "metadata": {},
   "outputs": [
    {
     "data": {
      "text/plain": [
       "100000"
      ]
     },
     "execution_count": 12,
     "metadata": {},
     "output_type": "execute_result"
    }
   ],
   "source": [
    "data_tail = '_zeroone'\n",
    "\n",
    "reward0_idx = np.where(Y == 0)[0]\n",
    "reward1_idx = np.where(Y == 1)[0]\n",
    "\n",
    "len(reward0_idx) + len(reward1_idx)"
   ]
  },
  {
   "cell_type": "code",
   "execution_count": 13,
   "id": "f520df43-c524-464c-98d9-0b9ae0951daa",
   "metadata": {},
   "outputs": [],
   "source": [
    "np.save(dataset_path+'/preprocess/X0{}'.format(data_tail),X[reward0_idx,:])\n",
    "np.save(dataset_path+'/preprocess/X1{}'.format(data_tail),X[reward1_idx,:])"
   ]
  },
  {
   "cell_type": "markdown",
   "id": "5854595a-890f-4ff4-b409-7a8a8e58bf3f",
   "metadata": {},
   "source": [
    "_________________________________"
   ]
  },
  {
   "cell_type": "markdown",
   "id": "13362074-8d9b-411c-b267-cc4d29848836",
   "metadata": {
    "tags": []
   },
   "source": [
    "## Training Autoencoder"
   ]
  },
  {
   "cell_type": "code",
   "execution_count": 18,
   "id": "fc517d8d-ac32-4804-b4c3-9a3d344e5b01",
   "metadata": {},
   "outputs": [],
   "source": [
    "data_tail = '_zeroone'\n",
    "EMB_DIM = 32\n",
    "save_tail = '_zeroone32'\n",
    "\n",
    "#Hyperparameters for Training\n",
    "learning_rate = 0.00005\n",
    "weight_decay  = 0.00001\n",
    "num_epoch = 4000 #Normally 100\n",
    "B = 10000 # batchsize\n",
    "\n",
    "    \n",
    "class BN_Autoencoder(nn.Module):\n",
    "    def __init__(self, d, emb_dim):\n",
    "        super().__init__()\n",
    "        self.emb_dim = emb_dim\n",
    "        self.d = d\n",
    "        self.encoder = nn.Sequential(nn.Linear(self.d, self.emb_dim),nn.BatchNorm1d(self.emb_dim))\n",
    "        self.decoder = nn.Linear(self.emb_dim, self.d)\n",
    "                \n",
    "    def forward(self, x):\n",
    "        batch_size = x.shape[0]\n",
    "        x = x.view(x.shape[0],-1)\n",
    "        encoded = self.encoder(x)\n",
    "        out = self.decoder(encoded).view(batch_size, self.d)\n",
    "        return out\n",
    "    \n",
    "    def encoding_result(self, x):\n",
    "        batch_size = x.shape[0]\n",
    "        x = x.view(x.shape[0],-1)\n",
    "        encoded = self.encoder(x)\n",
    "        return encoded"
   ]
  },
  {
   "cell_type": "code",
   "execution_count": 19,
   "id": "b4f92b17-f6cf-4d8c-89fa-b66f15e0a5d2",
   "metadata": {},
   "outputs": [],
   "source": [
    "X = np.vstack([np.load(dataset_path+'/preprocess/X0{}.npy'.format(data_tail)),np.load(dataset_path+'/preprocess/X1{}.npy'.format(data_tail))])\n",
    "np.random.shuffle(X)\n",
    "d = X.shape[1]\n",
    "\n",
    "model = BN_Autoencoder(d=d, emb_dim=EMB_DIM).to(device)\n",
    "loss_func = nn.MSELoss()\n",
    "optimizer = torch.optim.Adam(model.parameters(), lr=learning_rate, weight_decay=weight_decay)"
   ]
  },
  {
   "cell_type": "code",
   "execution_count": 20,
   "id": "920c544a-ad22-4e28-a467-39ebf0ed4907",
   "metadata": {},
   "outputs": [
    {
     "name": "stderr",
     "output_type": "stream",
     "text": [
      "100%|██████████| 4000/4000 [03:05<00:00, 21.62it/s]\n"
     ]
    }
   ],
   "source": [
    "L = X.shape[0]\n",
    "\n",
    "loss_arr = []\n",
    "\n",
    "for k in tqdm.tqdm(range(num_epoch)):\n",
    "    \n",
    "    for l in range(L//B):\n",
    "        \n",
    "        batch  = X[l*B:(l+1)*B, :].copy()\n",
    "        \n",
    "        x = torch.from_numpy(batch).type(torch.FloatTensor).to(device)\n",
    "\n",
    "        optimizer.zero_grad()\n",
    "        output = model.forward(x)\n",
    "        loss = loss_func(output,x)\n",
    "        loss.backward()\n",
    "        optimizer.step()\n",
    "\n",
    "    loss_arr.append(loss.cpu().data.numpy())"
   ]
  },
  {
   "cell_type": "code",
   "execution_count": 21,
   "id": "bc8f9e44-cc85-428f-a2f4-c4ba9d8e8362",
   "metadata": {},
   "outputs": [
    {
     "data": {
      "image/png": "[encoded data removed]",
      "text/plain": [
       "<Figure size 432x288 with 1 Axes>"
      ]
     },
     "metadata": {
      "needs_background": "light"
     },
     "output_type": "display_data"
    }
   ],
   "source": [
    "plt.plot(loss_arr)\n",
    "plt.yscale(\"log\")"
   ]
  },
  {
   "cell_type": "code",
   "execution_count": 22,
   "id": "4a4f8583-cf19-4cd2-9219-111debc180d2",
   "metadata": {},
   "outputs": [],
   "source": [
    "# Save Autoencoder\n",
    "torch.save(model.state_dict(), '../models/ml100k_autoencoder{}.pt'.format(save_tail))"
   ]
  },
  {
   "cell_type": "code",
   "execution_count": null,
   "id": "cab95d7f-50ea-4ece-9231-0d6dba2abbb4",
   "metadata": {},
   "outputs": [],
   "source": []
  }
 ],
 "metadata": {
  "kernelspec": {
   "display_name": "Python 3 (ipykernel)",
   "language": "python",
   "name": "python3"
  },
  "language_info": {
   "codemirror_mode": {
    "name": "ipython",
    "version": 3
   },
   "file_extension": ".py",
   "mimetype": "text/x-python",
   "name": "python",
   "nbconvert_exporter": "python",
   "pygments_lexer": "ipython3",
   "version": "3.9.12"
  }
 },
 "nbformat": 4,
 "nbformat_minor": 5
}
