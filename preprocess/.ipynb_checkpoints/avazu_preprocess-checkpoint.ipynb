{
 "cells": [
  {
   "cell_type": "code",
   "execution_count": 1,
   "id": "e30bdef0-2010-438f-b758-dc9d7f0c6fd4",
   "metadata": {},
   "outputs": [
    {
     "name": "stdout",
     "output_type": "stream",
     "text": [
      "# of Cores: 12\n",
      "cuda:0\n"
     ]
    }
   ],
   "source": [
    "import sys, os, time, datetime,pickle\n",
    "from tqdm import tqdm\n",
    "\n",
    "import pandas as pd\n",
    "import numpy as np\n",
    "\n",
    "from sklearn.preprocessing import OneHotEncoder\n",
    "\n",
    "import torch\n",
    "import torch.nn as nn\n",
    "import torch.optim as optim\n",
    "import torch.nn.init as init\n",
    "\n",
    "import matplotlib.pyplot as plt\n",
    "\n",
    "import multiprocessing as mp\n",
    "from multiprocessing import  Pool\n",
    "num_cores = mp.cpu_count()\n",
    "print('# of Cores: {}'.format(num_cores))\n",
    "\n",
    "device = torch.device(\"cuda:0\" if torch.cuda.is_available() else \"cpu\")\n",
    "print(device)\n",
    "\n",
    "dataset_path = \"../datasets/avazu\""
   ]
  },
  {
   "cell_type": "markdown",
   "id": "73df5900-e019-4204-ab75-fa98bd592fb1",
   "metadata": {},
   "source": [
    "___"
   ]
  },
  {
   "cell_type": "code",
   "execution_count": 2,
   "id": "7613b526-a772-47d6-99ab-bc0ef469b00c",
   "metadata": {},
   "outputs": [
    {
     "name": "stdout",
     "output_type": "stream",
     "text": [
      "Start reading\n"
     ]
    },
    {
     "name": "stderr",
     "output_type": "stream",
     "text": [
      "# of Rows Read: : 40428967 Rows [01:04, 624275.00 Rows/s]"
     ]
    },
    {
     "name": "stdout",
     "output_type": "stream",
     "text": [
      "Reading was finished\n"
     ]
    },
    {
     "name": "stderr",
     "output_type": "stream",
     "text": [
      "\n"
     ]
    }
   ],
   "source": [
    "CHUNKSIZE = 1000000\n",
    "\n",
    "# Read input and output path\n",
    "data_path = dataset_path + '/raw/train'\n",
    "\n",
    "#fields = ['click','C1','C15','C16','C18','site_category','app_category','device_type','device_conn_type']\n",
    "fields = ['click',  'C1', 'banner_pos', 'site_id', 'site_domain',\n",
    "       'site_category', 'app_id', 'app_domain', 'app_category', 'device_model', 'device_type', 'device_conn_type', 'C14',\n",
    "       'C15', 'C16', 'C17', 'C18', 'C19', 'C20', 'C21']\n",
    "\n",
    "# Read 'Massive' dataset\n",
    "print('Start reading')\n",
    "df_chunks = []\n",
    "with tqdm(desc='# of Rows Read: ', unit=' Rows') as pbar:\n",
    "    for chunk in pd.read_csv(data_path, chunksize=CHUNKSIZE, usecols=fields):\n",
    "        df_chunks.append(chunk)\n",
    "        pbar.update(len(chunk.index))\n",
    "        \n",
    "print('Reading was finished')"
   ]
  },
  {
   "cell_type": "code",
   "execution_count": 3,
   "id": "25411a4f-7077-4264-9b9f-b05972f36918",
   "metadata": {},
   "outputs": [],
   "source": [
    "from functools import partial\n",
    "\n",
    "def func(df, column):\n",
    "    return df[column].value_counts(ascending=True)\n",
    "\n",
    "def get_proportion(df_chunks, column, n_cores=num_cores):\n",
    "    \n",
    "    num_list = []\n",
    "    for chunk in df_chunks:\n",
    "        num_list.append(func(chunk, column))\n",
    "        \n",
    "    dummy = pd.DataFrame(pd.concat(num_list),columns=[column])\n",
    "    \n",
    "    aa = dummy.groupby(dummy.index)[column].sum()\n",
    "    \n",
    "    aa = aa.div(aa.sum())\n",
    "    \n",
    "    return aa"
   ]
  },
  {
   "cell_type": "code",
   "execution_count": 4,
   "id": "5a2316df-f328-44d3-9374-396518ee4414",
   "metadata": {},
   "outputs": [
    {
     "name": "stdout",
     "output_type": "stream",
     "text": [
      "C1 40264901\n",
      "banner_pos 40200488\n",
      "site_id 27460928\n",
      "site_domain 27460928\n",
      "site_category 27460928\n",
      "app_id 20753940\n",
      "app_domain 20753940\n",
      "app_category 20753940\n",
      "device_model 9532800\n",
      "device_type 9532800\n",
      "device_conn_type 9532800\n",
      "C14 4847967\n",
      "C15 4847967\n",
      "C16 4847967\n",
      "C17 4847967\n",
      "C18 4847967\n",
      "C19 4807950\n",
      "C20 4720285\n",
      "C21 4720285\n"
     ]
    }
   ],
   "source": [
    "thres_prop = 0.01\n",
    "\n",
    "_df_chunks = df_chunks\n",
    "for column in fields:\n",
    "\n",
    "    if column != 'click':\n",
    "    \n",
    "        prop = get_proportion(_df_chunks,column)\n",
    "        bad_idxs = list(prop[prop < thres_prop].index)\n",
    "        #print(prop)\n",
    "        #print(bad_idxs)\n",
    "\n",
    "        dummy_list = []\n",
    "        L = 0\n",
    "        for chunk in _df_chunks:\n",
    "            new_chunk = chunk.loc[~chunk[column].isin(bad_idxs)]\n",
    "            dummy_list.append(new_chunk)\n",
    "            L += len(new_chunk)\n",
    "            \n",
    "        print(column,L)\n",
    "        _df_chunks = dummy_list"
   ]
  },
  {
   "cell_type": "code",
   "execution_count": 5,
   "id": "1a5822b0-b91e-4971-9d17-d58f9063170c",
   "metadata": {},
   "outputs": [],
   "source": [
    "sample_ratio = 1/4.720285\n",
    "\n",
    "aggr_list = []\n",
    "for chunk in _df_chunks:\n",
    "    \n",
    "    aggr_list.append(chunk.sample(frac=sample_ratio,random_state=12345))\n",
    "    \n",
    "df_target = pd.concat(aggr_list).reset_index(drop=True)"
   ]
  },
  {
   "cell_type": "code",
   "execution_count": 6,
   "id": "3ac6852f-6534-42d0-91bc-3dbc64387d2d",
   "metadata": {},
   "outputs": [
    {
     "data": {
      "text/plain": [
       "['click',\n",
       " 'C1',\n",
       " 'banner_pos',\n",
       " 'site_id',\n",
       " 'site_domain',\n",
       " 'site_category',\n",
       " 'app_id',\n",
       " 'app_domain',\n",
       " 'app_category',\n",
       " 'device_model',\n",
       " 'device_type',\n",
       " 'device_conn_type',\n",
       " 'C14',\n",
       " 'C15',\n",
       " 'C16',\n",
       " 'C17',\n",
       " 'C18',\n",
       " 'C19',\n",
       " 'C20',\n",
       " 'C21']"
      ]
     },
     "execution_count": 6,
     "metadata": {},
     "output_type": "execute_result"
    }
   ],
   "source": [
    "fields"
   ]
  },
  {
   "cell_type": "code",
   "execution_count": 7,
   "id": "aa084756-edd5-49ab-95cc-c161b25ccc85",
   "metadata": {},
   "outputs": [
    {
     "name": "stdout",
     "output_type": "stream",
     "text": [
      "C1\n",
      "banner_pos\n",
      "site_id\n",
      "site_domain\n",
      "site_category\n",
      "app_id\n",
      "app_domain\n",
      "app_category\n",
      "device_model\n",
      "device_type\n",
      "device_conn_type\n",
      "C14\n",
      "C15\n",
      "C16\n",
      "C17\n",
      "C18\n",
      "C19\n",
      "C20\n",
      "C21\n"
     ]
    }
   ],
   "source": [
    "from sklearn import preprocessing\n",
    "\n",
    "feature_list = []\n",
    "for column in fields:\n",
    "    if column != 'click':\n",
    "        print(column)\n",
    "        encoding = preprocessing.LabelBinarizer()\n",
    "        feature_list.append(encoding.fit_transform(df_target[column]))\n",
    "        \n",
    "features = np.concatenate(feature_list, axis=1)"
   ]
  },
  {
   "cell_type": "code",
   "execution_count": 8,
   "id": "c79dedb4-801d-4e6d-8e82-cfe3a253cb1b",
   "metadata": {},
   "outputs": [
    {
     "data": {
      "text/plain": [
       "(1000001, 127)"
      ]
     },
     "execution_count": 8,
     "metadata": {},
     "output_type": "execute_result"
    }
   ],
   "source": [
    "features = np.concatenate(feature_list, axis=1)\n",
    "features.shape"
   ]
  },
  {
   "cell_type": "code",
   "execution_count": 9,
   "id": "9b448495-4c95-4e59-ae2b-62c37ead4bf2",
   "metadata": {},
   "outputs": [
    {
     "data": {
      "text/plain": [
       "(1000001,)"
      ]
     },
     "execution_count": 9,
     "metadata": {},
     "output_type": "execute_result"
    }
   ],
   "source": [
    "reward = np.asarray(df_target['click'])\n",
    "reward.shape"
   ]
  },
  {
   "cell_type": "code",
   "execution_count": null,
   "id": "90db3af9-e6c4-429a-adf7-d19798139e91",
   "metadata": {},
   "outputs": [],
   "source": [
    "from sklearn.linear_model import LogisticRegression\n",
    "from sklearn.metrics import roc_auc_score, average_precision_score\n",
    "\n",
    "X_train = features\n",
    "Y_train = reward\n",
    "\n",
    "\n",
    "clf = LogisticRegression(random_state=9999, max_iter=3000, tol=1e-3).fit(X_train, Y_train)\n",
    "\n",
    "prob_estimate_train = clf.predict_proba(X_train)\n",
    "\n",
    "train_auroc = roc_auc_score(Y_train, prob_estimate_train[:, 1])\n",
    "train_auprc = average_precision_score(Y_train, prob_estimate_train[:, 1])\n",
    "\n",
    "print(\"Train AUROC : {:.6f}\".format(train_auroc))\n",
    "print(\"Train AUPRC : {:.6f}\".format(train_auprc))"
   ]
  },
  {
   "cell_type": "code",
   "execution_count": null,
   "id": "7453c990-1b74-419d-984b-48931b619527",
   "metadata": {},
   "outputs": [],
   "source": [
    "tail = '_mili'\n",
    "\n",
    "reward0_idx = np.where(reward == 0)[0]\n",
    "reward1_idx = np.where(reward == 1)[0]\n",
    "\n",
    "len(reward0_idx) + len(reward1_idx)"
   ]
  },
  {
   "cell_type": "code",
   "execution_count": null,
   "id": "a5506835-d975-4d93-bddc-ebe59cd2f844",
   "metadata": {},
   "outputs": [],
   "source": [
    "np.save(dataset_path + '/preprocess/X0{}'.format(tail),features[reward0_idx,:])\n",
    "np.save(dataset_path + '/preprocess/X1{}'.format(tail),features[reward1_idx,:])"
   ]
  },
  {
   "cell_type": "markdown",
   "id": "79e89ecd-8bb2-4378-a3e4-b52835bd67de",
   "metadata": {},
   "source": [
    "____"
   ]
  },
  {
   "cell_type": "markdown",
   "id": "170e59b4-e524-4f54-a83b-7d93e91b1fd8",
   "metadata": {},
   "source": [
    "## Training Autoencoder"
   ]
  },
  {
   "cell_type": "code",
   "execution_count": 78,
   "id": "9b66745c-759d-4420-bf27-0a10d3cf6a6d",
   "metadata": {},
   "outputs": [],
   "source": [
    "# Hyperparameters for Training\n",
    "\n",
    "learning_rate = 0.00005\n",
    "weight_decay  = 0.00001\n",
    "num_epoch = 300 #Normally 100\n",
    "B = 2500 # batchsize\n",
    "\n",
    "#BN = True\n",
    "#EMB_DIM = 32\n",
    "\n",
    "\n",
    "# Hyperparameters for Training\n",
    "# learning_rate = 0.00001\n",
    "# weight_decay  = 0.000001\n",
    "#num_epoch = 800 #Normally 100\n",
    "#B = 10000 # batchsize\n",
    "\n",
    "EMB_DIM = 32\n",
    "\n",
    "# Additional char tail for save/load\n",
    "load_tail = '_mili'\n",
    "save_tail = '_mili32'\n",
    "\n",
    "class BN_Autoencoder(nn.Module):\n",
    "    def __init__(self, d, emb_dim):\n",
    "        super().__init__()\n",
    "        self.emb_dim = emb_dim\n",
    "        self.d = d\n",
    "        self.encoder = nn.Sequential(nn.Linear(self.d, self.emb_dim),nn.BatchNorm1d(self.emb_dim))\n",
    "        self.decoder = nn.Linear(self.emb_dim, self.d)\n",
    "                \n",
    "    def forward(self, x):\n",
    "        batch_size = x.shape[0]\n",
    "        x = x.view(x.shape[0],-1)\n",
    "        encoded = self.encoder(x)\n",
    "        out = self.decoder(encoded).view(batch_size, self.d)\n",
    "        return out\n",
    "    \n",
    "    def encoding_result(self, x):\n",
    "        batch_size = x.shape[0]\n",
    "        x = x.view(x.shape[0],-1)\n",
    "        encoded = self.encoder(x)\n",
    "        return encoded"
   ]
  },
  {
   "cell_type": "code",
   "execution_count": 79,
   "id": "256ba3ce-c9e0-4789-ae71-a0605ae9d661",
   "metadata": {},
   "outputs": [],
   "source": [
    "X = np.vstack([np.load(dataset_path+'/preprocess/X0{}.npy'.format(load_tail)),np.load(dataset_path+'/preprocess/X1{}.npy'.format(load_tail))])\n",
    "np.random.shuffle(X)\n",
    "d = X.shape[1]\n",
    "\n",
    "model = BN_Autoencoder(d=d, emb_dim=EMB_DIM).to(device)\n",
    "loss_func = nn.MSELoss()\n",
    "optimizer = torch.optim.Adam(model.parameters(), lr=learning_rate, weight_decay=weight_decay)"
   ]
  },
  {
   "cell_type": "code",
   "execution_count": 80,
   "id": "08f4da60-2389-49b5-be95-c80b0b3d766c",
   "metadata": {},
   "outputs": [
    {
     "name": "stderr",
     "output_type": "stream",
     "text": [
      "100%|██████████████████████████████████████████████████████████████████████████████████████████████████████████████████████████████████████████████████████████████████████████████████████████████████████████████████████████████████████| 300/300 [04:26<00:00,  1.12it/s]\n"
     ]
    }
   ],
   "source": [
    "L = X.shape[0]\n",
    "\n",
    "loss_arr = []\n",
    "\n",
    "for k in tqdm(range(num_epoch)):\n",
    "    \n",
    "    for l in range(L//B):\n",
    "        \n",
    "        batch  = X[l*B:(l+1)*B, :].copy()\n",
    "        \n",
    "        x = torch.from_numpy(batch).type(torch.FloatTensor).to(device)\n",
    "\n",
    "        optimizer.zero_grad()\n",
    "        output = model.forward(x)\n",
    "        loss = loss_func(output,x)\n",
    "        loss.backward()\n",
    "        optimizer.step()\n",
    "\n",
    "    loss_arr.append(loss.cpu().data.numpy())"
   ]
  },
  {
   "cell_type": "code",
   "execution_count": 81,
   "id": "6161d491-dac4-4883-af16-a8f25802e7b1",
   "metadata": {},
   "outputs": [
    {
     "data": {
      "image/png": "[encoded data removed]",
      "text/plain": [
       "<Figure size 432x288 with 1 Axes>"
      ]
     },
     "metadata": {
      "needs_background": "light"
     },
     "output_type": "display_data"
    }
   ],
   "source": [
    "plt.plot(loss_arr)\n",
    "plt.yscale(\"log\")"
   ]
  },
  {
   "cell_type": "code",
   "execution_count": 82,
   "id": "69374aac-a92b-43d4-b112-788a4268cf86",
   "metadata": {},
   "outputs": [],
   "source": [
    "torch.save(model.state_dict(), '../models/avazu_autoencoder{}.pt'.format(save_tail))"
   ]
  },
  {
   "cell_type": "code",
   "execution_count": null,
   "id": "07368da5-2df9-4cf0-9916-ab68b86a13f2",
   "metadata": {},
   "outputs": [],
   "source": []
  },
  {
   "cell_type": "code",
   "execution_count": null,
   "id": "b93062b8-a374-4f7e-824d-015ef1523076",
   "metadata": {},
   "outputs": [],
   "source": []
  }
 ],
 "metadata": {
  "kernelspec": {
   "display_name": "Python 3 (ipykernel)",
   "language": "python",
   "name": "python3"
  },
  "language_info": {
   "codemirror_mode": {
    "name": "ipython",
    "version": 3
   },
   "file_extension": ".py",
   "mimetype": "text/x-python",
   "name": "python",
   "nbconvert_exporter": "python",
   "pygments_lexer": "ipython3",
   "version": "3.9.12"
  }
 },
 "nbformat": 4,
 "nbformat_minor": 5
}
