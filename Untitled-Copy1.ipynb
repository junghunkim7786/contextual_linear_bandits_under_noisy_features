{
 "cells": [
  {
   "cell_type": "code",
   "execution_count": 16,
   "id": "18ed4a85-9728-4988-8067-c4a6b6f9064b",
   "metadata": {},
   "outputs": [],
   "source": [
    "from Environments import *\n",
    "from Algorithms import *\n",
    "import random\n",
    "import numpy as np\n",
    "import math\n",
    "from numpy.random import seed\n",
    "from numpy.random import rand\n",
    "import matplotlib.pyplot as plt\n",
    "import pickle\n",
    "import sys\n",
    "from numpy import dot\n",
    "from numpy.linalg import norm\n"
   ]
  },
  {
   "cell_type": "code",
   "execution_count": 21,
   "id": "a8a4a890-51e1-4be9-9a94-2a23c097c1c1",
   "metadata": {},
   "outputs": [],
   "source": [
    "d=3\n",
    "K=10\n",
    "T=10000\n",
    "repeat=10\n",
    "# p_list=[1,0.95,0.9,0.85,0.8,0.75,0.7]\n",
    "p_list=[1,0.9,0.8,0.7,0.6,0.5,0.4,0.3,0.2,0.1,0]"
   ]
  },
  {
   "cell_type": "code",
   "execution_count": 18,
   "id": "14902bbd-3270-41e0-a38b-515cd313fe15",
   "metadata": {
    "scrolled": true,
    "tags": []
   },
   "outputs": [
    {
     "name": "stdout",
     "output_type": "stream",
     "text": [
      "1\n"
     ]
    },
    {
     "name": "stderr",
     "output_type": "stream",
     "text": [
      "100%|██████████| 10000/10000 [00:25<00:00, 384.68it/s]\n",
      "100%|██████████| 10000/10000 [00:25<00:00, 394.13it/s]\n",
      "100%|██████████| 10000/10000 [00:25<00:00, 398.06it/s]\n",
      "100%|██████████| 10000/10000 [00:24<00:00, 404.35it/s]\n",
      "100%|██████████| 10000/10000 [00:25<00:00, 398.67it/s]\n",
      "100%|██████████| 10000/10000 [00:24<00:00, 404.98it/s]\n",
      "100%|██████████| 10000/10000 [00:24<00:00, 407.91it/s]\n",
      "100%|██████████| 10000/10000 [00:24<00:00, 400.44it/s]\n",
      "100%|██████████| 10000/10000 [00:24<00:00, 401.71it/s]\n",
      "100%|██████████| 10000/10000 [00:25<00:00, 396.59it/s]\n"
     ]
    },
    {
     "name": "stdout",
     "output_type": "stream",
     "text": [
      "0.9\n"
     ]
    },
    {
     "name": "stderr",
     "output_type": "stream",
     "text": [
      "100%|██████████| 10000/10000 [00:26<00:00, 375.03it/s]\n",
      "100%|██████████| 10000/10000 [00:28<00:00, 356.51it/s]\n",
      "100%|██████████| 10000/10000 [00:26<00:00, 373.22it/s]\n",
      "100%|██████████| 10000/10000 [00:28<00:00, 345.29it/s]\n",
      "100%|██████████| 10000/10000 [00:27<00:00, 362.57it/s]\n",
      "100%|██████████| 10000/10000 [00:26<00:00, 383.47it/s]\n",
      "100%|██████████| 10000/10000 [00:25<00:00, 384.90it/s]\n",
      "100%|██████████| 10000/10000 [00:25<00:00, 389.62it/s]\n",
      "100%|██████████| 10000/10000 [00:28<00:00, 352.11it/s]\n",
      "100%|██████████| 10000/10000 [00:29<00:00, 334.90it/s]\n"
     ]
    },
    {
     "name": "stdout",
     "output_type": "stream",
     "text": [
      "0.8\n"
     ]
    },
    {
     "name": "stderr",
     "output_type": "stream",
     "text": [
      "100%|██████████| 10000/10000 [00:29<00:00, 342.15it/s]\n",
      "100%|██████████| 10000/10000 [00:31<00:00, 314.83it/s]\n",
      "100%|██████████| 10000/10000 [00:30<00:00, 324.85it/s]\n",
      "100%|██████████| 10000/10000 [00:27<00:00, 361.91it/s]\n",
      "100%|██████████| 10000/10000 [00:29<00:00, 335.93it/s]\n",
      "100%|██████████| 10000/10000 [00:30<00:00, 324.13it/s]\n",
      "100%|██████████| 10000/10000 [00:27<00:00, 364.18it/s]\n",
      "100%|██████████| 10000/10000 [00:29<00:00, 343.02it/s]\n",
      "100%|██████████| 10000/10000 [00:28<00:00, 348.81it/s]\n",
      "100%|██████████| 10000/10000 [00:27<00:00, 362.73it/s]\n"
     ]
    },
    {
     "name": "stdout",
     "output_type": "stream",
     "text": [
      "0.7\n"
     ]
    },
    {
     "name": "stderr",
     "output_type": "stream",
     "text": [
      "100%|██████████| 10000/10000 [00:27<00:00, 357.15it/s]\n",
      "100%|██████████| 10000/10000 [00:29<00:00, 341.30it/s]\n",
      "100%|██████████| 10000/10000 [00:29<00:00, 344.55it/s]\n",
      "100%|██████████| 10000/10000 [00:28<00:00, 345.65it/s]\n",
      "100%|██████████| 10000/10000 [00:31<00:00, 312.53it/s]\n",
      "100%|██████████| 10000/10000 [00:30<00:00, 329.25it/s]\n",
      "100%|██████████| 10000/10000 [00:29<00:00, 343.65it/s]\n",
      "100%|██████████| 10000/10000 [00:27<00:00, 358.07it/s]\n",
      "100%|██████████| 10000/10000 [00:29<00:00, 344.70it/s]\n",
      "100%|██████████| 10000/10000 [00:30<00:00, 330.63it/s]\n"
     ]
    },
    {
     "name": "stdout",
     "output_type": "stream",
     "text": [
      "0.6\n"
     ]
    },
    {
     "name": "stderr",
     "output_type": "stream",
     "text": [
      "100%|██████████| 10000/10000 [00:28<00:00, 346.44it/s]\n",
      "100%|██████████| 10000/10000 [00:28<00:00, 348.72it/s]\n",
      "100%|██████████| 10000/10000 [00:30<00:00, 327.24it/s]\n",
      "100%|██████████| 10000/10000 [00:28<00:00, 349.99it/s]\n",
      "100%|██████████| 10000/10000 [00:28<00:00, 353.58it/s]\n",
      "100%|██████████| 10000/10000 [00:29<00:00, 341.22it/s]\n",
      "100%|██████████| 10000/10000 [00:29<00:00, 337.44it/s]\n",
      "100%|██████████| 10000/10000 [00:32<00:00, 307.03it/s]\n",
      "100%|██████████| 10000/10000 [00:32<00:00, 303.71it/s]\n",
      "100%|██████████| 10000/10000 [00:31<00:00, 317.79it/s]\n"
     ]
    },
    {
     "name": "stdout",
     "output_type": "stream",
     "text": [
      "0.5\n"
     ]
    },
    {
     "name": "stderr",
     "output_type": "stream",
     "text": [
      "100%|██████████| 10000/10000 [00:28<00:00, 350.23it/s]\n",
      "100%|██████████| 10000/10000 [00:28<00:00, 349.23it/s]\n",
      "100%|██████████| 10000/10000 [00:29<00:00, 341.79it/s]\n",
      "100%|██████████| 10000/10000 [00:28<00:00, 347.42it/s]\n",
      "100%|██████████| 10000/10000 [00:30<00:00, 331.21it/s]\n",
      "100%|██████████| 10000/10000 [00:29<00:00, 336.60it/s]\n",
      "100%|██████████| 10000/10000 [00:29<00:00, 338.81it/s]\n",
      "100%|██████████| 10000/10000 [00:29<00:00, 338.73it/s]\n",
      "100%|██████████| 10000/10000 [00:29<00:00, 342.19it/s]\n",
      "100%|██████████| 10000/10000 [00:30<00:00, 323.74it/s]\n"
     ]
    },
    {
     "name": "stdout",
     "output_type": "stream",
     "text": [
      "0.4\n"
     ]
    },
    {
     "name": "stderr",
     "output_type": "stream",
     "text": [
      "100%|██████████| 10000/10000 [00:29<00:00, 341.37it/s]\n",
      "100%|██████████| 10000/10000 [00:30<00:00, 325.41it/s]\n",
      "100%|██████████| 10000/10000 [00:29<00:00, 339.38it/s]\n",
      "100%|██████████| 10000/10000 [00:28<00:00, 355.74it/s]\n",
      "100%|██████████| 10000/10000 [00:31<00:00, 314.28it/s]\n",
      "100%|██████████| 10000/10000 [00:29<00:00, 342.23it/s]\n",
      "100%|██████████| 10000/10000 [00:29<00:00, 342.54it/s]\n",
      "100%|██████████| 10000/10000 [00:28<00:00, 352.84it/s]\n",
      "100%|██████████| 10000/10000 [00:29<00:00, 338.48it/s]\n",
      "100%|██████████| 10000/10000 [00:28<00:00, 345.39it/s]\n"
     ]
    },
    {
     "name": "stdout",
     "output_type": "stream",
     "text": [
      "0.3\n"
     ]
    },
    {
     "name": "stderr",
     "output_type": "stream",
     "text": [
      "100%|██████████| 10000/10000 [00:28<00:00, 348.24it/s]\n",
      "100%|██████████| 10000/10000 [00:31<00:00, 312.88it/s]\n",
      "100%|██████████| 10000/10000 [00:31<00:00, 313.06it/s]\n",
      "100%|██████████| 10000/10000 [00:31<00:00, 312.79it/s]\n",
      "100%|██████████| 10000/10000 [00:29<00:00, 336.66it/s]\n",
      "100%|██████████| 10000/10000 [00:31<00:00, 313.09it/s]\n",
      "100%|██████████| 10000/10000 [00:28<00:00, 345.07it/s]\n",
      "100%|██████████| 10000/10000 [00:30<00:00, 328.49it/s]\n",
      "100%|██████████| 10000/10000 [00:30<00:00, 327.02it/s]\n",
      "100%|██████████| 10000/10000 [00:28<00:00, 348.87it/s]\n"
     ]
    },
    {
     "name": "stdout",
     "output_type": "stream",
     "text": [
      "0.2\n"
     ]
    },
    {
     "name": "stderr",
     "output_type": "stream",
     "text": [
      "100%|██████████| 10000/10000 [00:30<00:00, 324.83it/s]\n",
      "100%|██████████| 10000/10000 [00:29<00:00, 341.32it/s]\n",
      "100%|██████████| 10000/10000 [00:29<00:00, 336.25it/s]\n",
      "100%|██████████| 10000/10000 [00:31<00:00, 318.91it/s]\n",
      "100%|██████████| 10000/10000 [00:31<00:00, 317.97it/s]\n",
      "100%|██████████| 10000/10000 [00:28<00:00, 347.18it/s]\n",
      "100%|██████████| 10000/10000 [00:27<00:00, 358.64it/s]\n",
      "100%|██████████| 10000/10000 [00:30<00:00, 322.63it/s]\n",
      "100%|██████████| 10000/10000 [00:30<00:00, 323.09it/s]\n",
      "100%|██████████| 10000/10000 [00:31<00:00, 322.53it/s]\n"
     ]
    },
    {
     "name": "stdout",
     "output_type": "stream",
     "text": [
      "0.1\n"
     ]
    },
    {
     "name": "stderr",
     "output_type": "stream",
     "text": [
      "100%|██████████| 10000/10000 [00:28<00:00, 355.34it/s]\n",
      "100%|██████████| 10000/10000 [00:28<00:00, 354.24it/s]\n",
      "100%|██████████| 10000/10000 [00:26<00:00, 377.13it/s]\n",
      "100%|██████████| 10000/10000 [00:26<00:00, 374.11it/s]\n",
      "100%|██████████| 10000/10000 [00:28<00:00, 347.48it/s]\n",
      "100%|██████████| 10000/10000 [00:26<00:00, 371.56it/s]\n",
      "100%|██████████| 10000/10000 [00:28<00:00, 354.55it/s]\n",
      "100%|██████████| 10000/10000 [00:29<00:00, 335.45it/s]\n",
      "100%|██████████| 10000/10000 [00:26<00:00, 374.28it/s]\n",
      "100%|██████████| 10000/10000 [00:27<00:00, 368.99it/s]\n"
     ]
    },
    {
     "name": "stdout",
     "output_type": "stream",
     "text": [
      "0\n"
     ]
    },
    {
     "name": "stderr",
     "output_type": "stream",
     "text": [
      "100%|██████████| 10000/10000 [00:24<00:00, 408.90it/s]\n",
      "100%|██████████| 10000/10000 [00:24<00:00, 408.68it/s]\n",
      "100%|██████████| 10000/10000 [00:24<00:00, 409.56it/s]\n",
      "100%|██████████| 10000/10000 [00:24<00:00, 416.26it/s]\n",
      "100%|██████████| 10000/10000 [00:24<00:00, 402.37it/s]\n",
      "100%|██████████| 10000/10000 [00:25<00:00, 388.24it/s]\n",
      "100%|██████████| 10000/10000 [00:25<00:00, 397.54it/s]\n",
      "100%|██████████| 10000/10000 [00:26<00:00, 379.38it/s]\n",
      "100%|██████████| 10000/10000 [00:26<00:00, 378.87it/s]\n",
      "100%|██████████| 10000/10000 [00:24<00:00, 411.93it/s]\n"
     ]
    }
   ],
   "source": [
    "\n",
    "# p_list=[0]\n",
    "reward_gap_list=np.zeros((len(p_list),repeat))\n",
    "reward_opt_gap_list=np.zeros((len(p_list),repeat))\n",
    "avg_opt_list=np.zeros((len(p_list),repeat))\n",
    "avg_list=np.zeros((len(p_list),repeat))\n",
    "\n",
    "for k,p in enumerate(p_list):\n",
    "    avg_opt=0\n",
    "    avg=0\n",
    "    reward_gap=0\n",
    "    reward_opt_gap=0\n",
    "    print(p)\n",
    "    for i in range(repeat):\n",
    "        seed=i\n",
    "        random.seed(seed)\n",
    "        Env=noisy_linear_Env(seed,p,d,K)\n",
    "        for t in tqdm(range(T)):\n",
    "            Env.load_data()\n",
    "            opt_arm=Env.opt_arm\n",
    "            z=Env.z\n",
    "            opt_arm=Env.opt_arm.copy()\n",
    "            opt_arm_ori=Env.opt_arm_origin.copy()\n",
    "            a=z[opt_arm]\n",
    "            b=z[opt_arm_ori]\n",
    "            sim_opt=dot(a, b)/(norm(a)*norm(b))\n",
    "            if t==0:\n",
    "                avg_opt=sim_opt\n",
    "            else:\n",
    "                avg_opt=(avg_opt*t+sim_opt)/(t+1)\n",
    "            avg_opt_list[k,i]=avg_opt\n",
    "            gap_max=Env.theta@b-np.min(z@Env.theta)\n",
    "            reward_opt_gap=Env.theta@(b-a)\n",
    "            reward_opt_gap_list[k,i]=reward_opt_gap\n",
    "            ####\n",
    "            ran_ind=random.choice(range(K))\n",
    "            a=z[ran_ind]\n",
    "            sim=dot(a, b)/(norm(a)*norm(b))\n",
    "            if t==0:\n",
    "                avg=sim\n",
    "            else:\n",
    "                avg=(avg*t+sim)/(t+1)\n",
    "        avg_list[k,i]=avg\n",
    "        reward_gap=Env.theta@(b-a)\n",
    "        reward_gap_list[k,i]=reward_gap\n",
    "        \n",
    "np.save('./result/T_'+str(T)+'d'+str(d)+'p_list_'+str(p_list)+'reward_gap_opt.npy',reward_opt_gap_list)\n",
    "np.save('./result/T_'+str(T)+'d'+str(d)+'p_list_'+str(p_list)+'sim_opt.npy',avg_opt_list)\n",
    "np.save('./result/T_'+str(T)+'d'+str(d)+'p_list_'+str(p_list)+'reward_gap.npy',reward_gap_list)\n",
    "np.save('./result/T_'+str(T)+'d'+str(d)+'p_list_'+str(p_list)+'sim.npy',avg_list)\n"
   ]
  },
  {
   "cell_type": "code",
   "execution_count": 19,
   "id": "16b2a96e-3434-43a6-80b7-1cc06ac800e2",
   "metadata": {},
   "outputs": [],
   "source": [
    "reward_gap_opt_list=np.load('./result/T_'+str(T)+'d'+str(d)+'p_list_'+str(p_list)+'reward_gap_opt.npy')\n",
    "sim_opt_list=np.load('./result/T_'+str(T)+'d'+str(d)+'p_list_'+str(p_list)+'sim_opt.npy')\n",
    "reward_gap_list=np.load('./result/T_'+str(T)+'d'+str(d)+'p_list_'+str(p_list)+'reward_gap.npy')\n",
    "sim_list=np.load('./result/T_'+str(T)+'d'+str(d)+'p_list_'+str(p_list)+'sim.npy')\n",
    "\n",
    "reward_opt_mean=np.average(reward_gap_opt_list,axis=1)\n",
    "reward_opt_sd=np.std(reward_gap_opt_list,axis=1)\n",
    "reward_mean=np.average(reward_gap_list,axis=1)\n",
    "reward_sd=np.std(reward_gap_list,axis=1)\n",
    "\n",
    "sim_opt_mean=np.average(sim_opt_list,axis=1)\n",
    "sim_opt_sd=np.std(sim_opt_list,axis=1)\n",
    "sim_mean=np.average(sim_list,axis=1)\n",
    "sim_sd=np.std(sim_list,axis=1)"
   ]
  },
  {
   "cell_type": "code",
   "execution_count": 26,
   "id": "efcc9801-f16a-43c8-a09c-dd0ae3280c21",
   "metadata": {},
   "outputs": [
    {
     "data": {
      "image/png": "[encoded data removed]",
      "text/plain": [
       "<Figure size 432x288 with 1 Axes>"
      ]
     },
     "metadata": {
      "needs_background": "light"
     },
     "output_type": "display_data"
    },
    {
     "data": {
      "text/plain": [
       "<Figure size 432x288 with 0 Axes>"
      ]
     },
     "metadata": {},
     "output_type": "display_data"
    },
    {
     "data": {
      "image/png": "[encoded data removed]",
      "text/plain": [
       "<Figure size 432x288 with 1 Axes>"
      ]
     },
     "metadata": {
      "needs_background": "light"
     },
     "output_type": "display_data"
    },
    {
     "data": {
      "text/plain": [
       "<Figure size 432x288 with 0 Axes>"
      ]
     },
     "metadata": {},
     "output_type": "display_data"
    }
   ],
   "source": [
    "_p_list=[1-p for p in p_list]\n",
    "\n",
    "fig,(ax)=plt.subplots(1,1)\n",
    "ax.errorbar(x=_p_list, y=reward_opt_mean, yerr=1.96*reward_opt_sd/np.sqrt(repeat), color=\"b\", capsize=3,\n",
    "             marker=\"^\", markersize=7,label='Bayesian optimal arm',zorder=2) \n",
    "ax.errorbar(x=_p_list, y=reward_mean, yerr=1.96*reward_sd/np.sqrt(repeat), color=\"orange\", capsize=3,\n",
    "             marker=\"o\", markersize=7,label='Random arm',zorder=1)\n",
    "\n",
    "\n",
    "#font size\n",
    "ax.tick_params(labelsize=15)\n",
    "plt.rc('legend',fontsize=13)\n",
    "ax.yaxis.get_offset_text().set_fontsize(15)\n",
    "ax.xaxis.get_offset_text().set_fontsize(15)\n",
    "\n",
    "# remove the errorbars in legend\n",
    "handles, labels = ax.get_legend_handles_labels()\n",
    "handles = [h[0] for h in handles]\n",
    "ax.legend(handles, labels,numpoints=1)\n",
    "# plot \n",
    "plt.gcf().subplots_adjust(bottom=0.15)\n",
    "plt.ticklabel_format(style='plain', axis='y', scilimits=(0,0))\n",
    "\n",
    "plt.xlabel(r'Missing probability $1-p$',fontsize=15)\n",
    "plt.ylabel('Reward mean gap',fontsize=15)\n",
    "plt.savefig('./result/reward_mean_gap.png')\n",
    "plt.show()\n",
    "plt.clf()        \n",
    "\n",
    "\n",
    "\n",
    "_p_list=[1-p for p in p_list]\n",
    "\n",
    "fig,(ax)=plt.subplots(1,1)\n",
    "ax.errorbar(x=_p_list, y=sim_opt_mean, yerr=1.96*sim_opt_sd/np.sqrt(repeat), color=\"tomato\", capsize=3,\n",
    "             marker=\"^\", markersize=7,label='Bayesian optimal arm',zorder=2) \n",
    "ax.errorbar(x=_p_list, y=sim_mean, yerr=1.96*sim_sd/np.sqrt(repeat), color=\"grey\", capsize=3,\n",
    "             marker=\"o\", markersize=7,label='Random arm',zorder=1)\n",
    "\n",
    "\n",
    "#font size\n",
    "ax.tick_params(labelsize=15)\n",
    "plt.rc('legend',fontsize=13)\n",
    "ax.yaxis.get_offset_text().set_fontsize(15)\n",
    "ax.xaxis.get_offset_text().set_fontsize(15)\n",
    "\n",
    "# remove the errorbars in legend\n",
    "handles, labels = ax.get_legend_handles_labels()\n",
    "handles = [h[0] for h in handles]\n",
    "ax.legend(handles, labels,numpoints=1)\n",
    "# plot \n",
    "plt.gcf().subplots_adjust(bottom=0.15)\n",
    "plt.ticklabel_format(style='plain', axis='y', scilimits=(0,0))\n",
    "plt.xlabel(r'Missing probability $1-p$',fontsize=15)\n",
    "plt.ylabel('Cosine similarity',fontsize=15)\n",
    "plt.savefig('./result/sim.png')\n",
    "plt.show()\n",
    "plt.clf()         "
   ]
  },
  {
   "cell_type": "code",
   "execution_count": 12,
   "id": "45b14378-68f0-4523-8804-2c1e874158d2",
   "metadata": {},
   "outputs": [
    {
     "data": {
      "image/png": "[encoded data removed]",
      "text/plain": [
       "<Figure size 432x288 with 1 Axes>"
      ]
     },
     "metadata": {
      "needs_background": "light"
     },
     "output_type": "display_data"
    },
    {
     "data": {
      "image/png": "[encoded data removed]",
      "text/plain": [
       "<Figure size 432x288 with 1 Axes>"
      ]
     },
     "metadata": {
      "needs_background": "light"
     },
     "output_type": "display_data"
    }
   ],
   "source": [
    "import matplotlib.pyplot as plt\n",
    "opt_mean=np.average(avg_opt_list)\n",
    "opt_sd=np.std(avg_opt_list)\n",
    "mean=np.average(avg_list)\n",
    "sd=np.std(avg_list)\n",
    "fig, ax = plt.subplots()\n",
    "\n",
    "x_pos = np.arange(2)\n",
    "y = [opt_mean, mean]\n",
    "error = np.array([opt_sd, sd])\n",
    "bar_label = [round(np.average(avg_opt_list),2),round(np.average(avg_list),2)]\n",
    "\n",
    "bar_plot=ax.bar(x_pos, y, yerr=1.96*error/np.sqrt(repeat), align='center', alpha=0.4, ecolor='black', capsize=10)\n",
    "def autolabel(rects):\n",
    "    for idx,rect in enumerate(bar_plot):\n",
    "        height = rect.get_height()\n",
    "        ax.text(rect.get_x() + rect.get_width()*7/10., 1*height,\n",
    "                bar_label[idx],\n",
    "                ha='center', va='bottom', rotation=0,fontsize=15)\n",
    "autolabel(bar_plot)\n",
    "\n",
    "ax.tick_params(labelsize=15)\n",
    "ax.get_children()[0].set_color('orange')\n",
    "ax.get_children()[0].set_alpha(0.8) \n",
    "# plt.rc('legend',fontsize=15)\n",
    "ax.yaxis.get_offset_text().set_fontsize(15)\n",
    "ax.xaxis.get_offset_text().set_fontsize(15)\n",
    "ax.set_ylabel('Cosine similarity',fontsize=15)\n",
    "ax.set_xticks(x_pos)\n",
    "# ax.set_title('Coefficenit of Thermal Expansion (CTE) of Three Metals')\n",
    "ax.yaxis.grid(True)\n",
    "bar_tick_label= ['Bayesian optimal arm','Random arm']\n",
    "\n",
    "ax.set_xticklabels(bar_tick_label)\n",
    "\n",
    "# Save the figure and show\n",
    "plt.tight_layout()\n",
    "plt.savefig('result/error_bars_cosine.png')\n",
    "plt.show()\n",
    "\n",
    "\n",
    "\n",
    "opt_mean=np.average(reward_opt_gap_list)\n",
    "opt_sd=np.std(reward_opt_gap_list)\n",
    "mean=np.average(reward_gap_list)\n",
    "sd=np.std(reward_gap_list)\n",
    "fig, ax = plt.subplots()\n",
    "\n",
    "x_pos = np.arange(2)\n",
    "y = [opt_mean, mean]\n",
    "error = np.array([opt_sd, sd])\n",
    "bar_label = [round(np.average(reward_opt_gap_list),2),round(np.average(reward_gap_list),2)]\n",
    "\n",
    "bar_plot=ax.bar(x_pos, y, yerr=1.96*error/np.sqrt(repeat), align='center', alpha=0.4, ecolor='black', capsize=10)\n",
    "def autolabel(rects):\n",
    "    for idx,rect in enumerate(bar_plot):\n",
    "        height = rect.get_height()\n",
    "        ax.text(rect.get_x() + rect.get_width()*7/10., 1*height,\n",
    "                bar_label[idx],\n",
    "                ha='center', va='bottom', rotation=0,fontsize=15)\n",
    "autolabel(bar_plot)\n",
    "ax.get_children()[0].set_color('orange')\n",
    "ax.get_children()[0].set_alpha(0.8) \n",
    "ax.tick_params(labelsize=15)\n",
    "# plt.rc('legend',fontsize=15)\n",
    "ax.yaxis.get_offset_text().set_fontsize(15)\n",
    "ax.xaxis.get_offset_text().set_fontsize(15)\n",
    "ax.set_ylabel('Normalized mean reward gap',fontsize=15)\n",
    "ax.set_xticks(x_pos)\n",
    "# ax.set_title('Coefficenit of Thermal Expansion (CTE) of Three Metals')\n",
    "ax.yaxis.grid(True)\n",
    "bar_tick_label= ['Bayesian optimal arm','Random arm']\n",
    "\n",
    "ax.set_xticklabels(bar_tick_label)\n",
    "\n",
    "# Save the figure and show\n",
    "plt.tight_layout()\n",
    "plt.savefig('result/error_bars_reward.png')\n",
    "plt.show()"
   ]
  },
  {
   "cell_type": "code",
   "execution_count": 10,
   "id": "2bb36be0-da3c-4614-812f-61d3ee23642a",
   "metadata": {},
   "outputs": [
    {
     "name": "stdout",
     "output_type": "stream",
     "text": [
      "[0.         0.         0.15938995 0.33459882 0.         0.\n",
      " 0.         0.41630754 0.         0.        ]\n"
     ]
    }
   ],
   "source": [
    "print(reward_opt_gap_list)"
   ]
  },
  {
   "cell_type": "code",
   "execution_count": null,
   "id": "6f439261-776a-4740-ba21-adfbe3359b76",
   "metadata": {},
   "outputs": [],
   "source": [
    "print(np.average(avg_list),np.average(avg_opt_list))\n",
    "\n",
    "fig, ax = plt.subplots()\n",
    "\n",
    "bar_x = np.arange(2)\n",
    "bar_height =  [opt_mean, mean]\n",
    "bar_label = [round(np.average(avg_opt_list),2),round(np.average(avg_list),2)]\n",
    "bar_tick_label= ['Bayesan optimal arm','Random arm']\n",
    "\n",
    "bar_plot = plt.bar(bar_x,bar_height,tick_label=bar_tick_label)\n",
    "\n",
    "def autolabel(rects):\n",
    "    for idx,rect in enumerate(bar_plot):\n",
    "        height = rect.get_height()\n",
    "        ax.text(rect.get_x() + rect.get_width()/2., 1.05*height,\n",
    "                bar_label[idx],\n",
    "                ha='center', va='bottom', rotation=0)\n",
    "\n",
    "autolabel(bar_plot)\n",
    "\n",
    "plt.ylim(0,20)\n",
    "\n",
    "plt.title('Add text for each bar with matplotlib')\n",
    "\n",
    "plt.savefig(\"add_text_bar_matplotlib_01.png\", bbox_inches='tight')\n",
    "plt.show()"
   ]
  },
  {
   "cell_type": "code",
   "execution_count": 42,
   "id": "477caeaa-3308-47fc-bf1d-54c59f6dd260",
   "metadata": {},
   "outputs": [
    {
     "name": "stdout",
     "output_type": "stream",
     "text": [
      "[[1.  0.4 1.2 3.7 2.6 5.8]\n",
      " [1.  0.4 1.2 3.7 2.6 5.8]\n",
      " [1.  0.4 1.2 3.7 2.6 5.8]]\n"
     ]
    },
    {
     "data": {
      "text/plain": [
       "array([0.00000000e+00, 5.55111512e-17, 0.00000000e+00, 4.44089210e-16,\n",
       "       0.00000000e+00, 0.00000000e+00])"
      ]
     },
     "execution_count": 42,
     "metadata": {},
     "output_type": "execute_result"
    }
   ],
   "source": [
    "A_rank=[1,0.4,1.2,3.7,2.6,5.8]\n",
    "B_rank=[1,2.8,3.7,2.6,5,3.4]\n",
    "C_rank=[1,3.4,0.5,0.1,2.5,6.1]\n",
    "arr = np.array([A_rank, A_rank, A_rank])\n",
    "print(arr)\n",
    "np.std(arr, axis=0)"
   ]
  },
  {
   "cell_type": "code",
   "execution_count": null,
   "id": "1518d450-26f7-46ff-ba41-0e36b603735c",
   "metadata": {},
   "outputs": [],
   "source": []
  }
 ],
 "metadata": {
  "kernelspec": {
   "display_name": "Python 3 (ipykernel)",
   "language": "python",
   "name": "python3"
  },
  "language_info": {
   "codemirror_mode": {
    "name": "ipython",
    "version": 3
   },
   "file_extension": ".py",
   "mimetype": "text/x-python",
   "name": "python",
   "nbconvert_exporter": "python",
   "pygments_lexer": "ipython3",
   "version": "3.9.12"
  }
 },
 "nbformat": 4,
 "nbformat_minor": 5
}
